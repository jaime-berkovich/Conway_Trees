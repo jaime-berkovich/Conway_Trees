{
 "cells": [
  {
   "cell_type": "code",
   "execution_count": 1,
   "metadata": {},
   "outputs": [],
   "source": [
    "import numpy as np, trimesh as tm\n",
    "from pathlib import Path\n",
    "\n",
    "TARGET_SIZE = np.array([30., 30., 36.])      # mm  (X, Y, Z)\n",
    "PLATE_THICK = 3.0                            # mm  (each end)\n",
    "\n",
    "def preprocess_mesh(stl_path: Path) -> tm.Trimesh:\n",
    "    \"\"\"Load STL, scale so height=36 mm, remove 3 mm plates, return new mesh.\"\"\"\n",
    "    mesh = tm.load_mesh(stl_path, process=False)\n",
    "\n",
    "    # --- 1️⃣ scale: map longest axis → 36 mm -------------------------------\n",
    "    extents = mesh.bounding_box_oriented.extents  # (dx,dy,dz)\n",
    "    tallest_axis = extents.argmax()               # 0,1,2\n",
    "    scale = TARGET_SIZE[2] / extents[tallest_axis]\n",
    "    mesh.apply_scale(scale)\n",
    "\n",
    "    # --- 2️⃣ rotate so Z is the tall axis, if necessary --------------------\n",
    "    if tallest_axis != 2:\n",
    "        # permutation matrices for X→Z, Y→Z\n",
    "        rot = {0: tm.transformations.rotation_matrix(np.pi/2, [0,1,0]),\n",
    "               1: tm.transformations.rotation_matrix(-np.pi/2, [1,0,0])}[tallest_axis]\n",
    "        mesh.apply_transform(rot)\n",
    "\n",
    "    # --- 3️⃣ slice off plates ---------------------------------------------\n",
    "    z_min, z_max = mesh.bounds[:,2]\n",
    "    planes = [\n",
    "        ( [0,0, 1], -(z_min + PLATE_THICK) ),    # bottom cut\n",
    "        ( [0,0,-1], +(z_max - PLATE_THICK) )     # top cut\n",
    "    ]\n",
    "    for normal, offset in planes:\n",
    "        mesh = mesh.slice_plane(plane_origin=[0,0, -offset*normal[2]],\n",
    "                                plane_normal=normal)\n",
    "\n",
    "    mesh.remove_unreferenced_vertices()\n",
    "    return mesh\n"
   ]
  },
  {
   "cell_type": "code",
   "execution_count": 6,
   "metadata": {},
   "outputs": [],
   "source": [
    "import numpy as np, trimesh as tm\n",
    "\n",
    "def box_count_fractal_dimension(mesh: tm.Trimesh,\n",
    "                                min_div=1, max_div=6):\n",
    "    \"\"\"\n",
    "    Box-count fractal dimension via trimesh.voxel.\n",
    "    • min_div=1 → largest box edge  L/2¹\n",
    "    • max_div=6 → smallest box edge L/2⁶\n",
    "    Returns (scales_mm, counts, D).\n",
    "    \"\"\"\n",
    "    L = mesh.bounding_box.extents.max()     # mm, size of enclosing cube\n",
    "    scales, counts = [], []\n",
    "\n",
    "    for k in range(min_div, max_div + 1):\n",
    "        pitch = L / (2 ** k)                # cube edge length ε\n",
    "        vg = mesh.voxelized(pitch)          # trimesh.VoxelGrid\n",
    "        scales.append(pitch)\n",
    "        counts.append(len(vg.sparse_indices))\n",
    "\n",
    "    coeff = np.polyfit(np.log(scales), np.log(counts), 1)\n",
    "    D = -coeff[0]\n",
    "    return np.array(scales), np.array(counts), D\n"
   ]
  },
  {
   "cell_type": "code",
   "execution_count": 7,
   "metadata": {},
   "outputs": [],
   "source": [
    "def dimension_for_stl(path):\n",
    "    mesh = preprocess_mesh(path)\n",
    "    scales, counts, D = box_count_fractal_dimension(mesh, max_div=7)\n",
    "    print(f\"{path.name}:  D ≈ {D:.3f}\")\n",
    "    return scales, counts, D\n"
   ]
  },
  {
   "cell_type": "code",
   "execution_count": 8,
   "metadata": {},
   "outputs": [
    {
     "data": {
      "application/vnd.jupyter.widget-view+json": {
       "model_id": "5b03fee3a804436ba792ff3b242ca6a1",
       "version_major": 2,
       "version_minor": 0
      },
      "text/plain": [
       "Grafted CTs: 0it [00:00, ?it/s]"
      ]
     },
     "metadata": {},
     "output_type": "display_data"
    },
    {
     "data": {
      "application/vnd.jupyter.widget-view+json": {
       "model_id": "adfa7aee563a4dfdb48eb74c2e19071b",
       "version_major": 2,
       "version_minor": 0
      },
      "text/plain": [
       "Randomly Generated ICs:   0%|          | 0/14 [00:00<?, ?it/s]"
      ]
     },
     "metadata": {},
     "output_type": "display_data"
    },
    {
     "name": "stdout",
     "output_type": "stream",
     "text": [
      "1.0578 1081.stl:  D ≈ 2.055\n",
      "1.2000 1510.stl:  D ≈ 2.086\n",
      "1.2268 1785.stl:  D ≈ 2.180\n",
      "1.2799 2395.stl:  D ≈ 2.176\n",
      "1.2799 3454.stl:  D ≈ 2.210\n",
      "1.3156 2569.stl:  D ≈ 2.169\n",
      "1.3156 3128.stl:  D ≈ 2.207\n",
      "1.3156 3637.stl:  D ≈ 2.260\n",
      "1.3244 2441.stl:  D ≈ 2.196\n",
      "1.3244 4389.stl:  D ≈ 2.293\n",
      "1.3423 4769.stl:  D ≈ 2.308\n",
      "1.3423 6050.stl:  D ≈ 2.367\n",
      "1.3512 5660.stl:  D ≈ 2.355\n",
      "1.3689 5500.stl:  D ≈ 2.343\n"
     ]
    }
   ],
   "source": [
    "from tqdm.auto import tqdm\n",
    "\n",
    "def run_folder(folder):\n",
    "    folder = Path(folder)\n",
    "    for stl in tqdm(list(folder.rglob(\"*.stl\")), desc=folder.name):\n",
    "        dimension_for_stl(stl)\n",
    "\n",
    "base = Path(\"3D_Files\")\n",
    "run_folder(base / \"Grafted CTs\")\n",
    "run_folder(base / \"Randomly Generated ICs\")\n"
   ]
  },
  {
   "cell_type": "code",
   "execution_count": 2,
   "metadata": {},
   "outputs": [
    {
     "name": "stderr",
     "output_type": "stream",
     "text": [
      "Random ICs:   0%|          | 0/14 [00:00<?, ?it/s]"
     ]
    },
    {
     "name": "stdout",
     "output_type": "stream",
     "text": [
      "\n",
      "→ 1.0578 1081.stl\n",
      "   cleaned STL  → Edited_STLs\\Randomly Generated ICs\\1.0578 1081.stl\n"
     ]
    },
    {
     "name": "stderr",
     "output_type": "stream",
     "text": [
      "Random ICs:   7%|▋         | 1/14 [00:04<00:56,  4.33s/it]"
     ]
    },
    {
     "name": "stdout",
     "output_type": "stream",
     "text": [
      "   plot         → Boxcount_Plots\\Randomly Generated ICs\\1.0578 1081.png\n",
      "   fractal dim  = 2.055\n",
      "\n",
      "→ 1.2000 1510.stl\n",
      "   cleaned STL  → Edited_STLs\\Randomly Generated ICs\\1.2000 1510.stl\n"
     ]
    },
    {
     "name": "stderr",
     "output_type": "stream",
     "text": [
      "Random ICs:  14%|█▍        | 2/14 [00:09<00:56,  4.72s/it]"
     ]
    },
    {
     "name": "stdout",
     "output_type": "stream",
     "text": [
      "   plot         → Boxcount_Plots\\Randomly Generated ICs\\1.2000 1510.png\n",
      "   fractal dim  = 2.086\n",
      "\n",
      "→ 1.2268 1785.stl\n",
      "   cleaned STL  → Edited_STLs\\Randomly Generated ICs\\1.2268 1785.stl\n"
     ]
    },
    {
     "name": "stderr",
     "output_type": "stream",
     "text": [
      "Random ICs:  21%|██▏       | 3/14 [00:14<00:55,  5.06s/it]"
     ]
    },
    {
     "name": "stdout",
     "output_type": "stream",
     "text": [
      "   plot         → Boxcount_Plots\\Randomly Generated ICs\\1.2268 1785.png\n",
      "   fractal dim  = 2.180\n",
      "\n",
      "→ 1.2799 2395.stl\n",
      "   cleaned STL  → Edited_STLs\\Randomly Generated ICs\\1.2799 2395.stl\n"
     ]
    },
    {
     "name": "stderr",
     "output_type": "stream",
     "text": [
      "Random ICs:  29%|██▊       | 4/14 [00:21<00:57,  5.78s/it]"
     ]
    },
    {
     "name": "stdout",
     "output_type": "stream",
     "text": [
      "   plot         → Boxcount_Plots\\Randomly Generated ICs\\1.2799 2395.png\n",
      "   fractal dim  = 2.176\n",
      "\n",
      "→ 1.2799 3454.stl\n",
      "   cleaned STL  → Edited_STLs\\Randomly Generated ICs\\1.2799 3454.stl\n"
     ]
    },
    {
     "name": "stderr",
     "output_type": "stream",
     "text": [
      "Random ICs:  36%|███▌      | 5/14 [00:31<01:04,  7.19s/it]"
     ]
    },
    {
     "name": "stdout",
     "output_type": "stream",
     "text": [
      "   plot         → Boxcount_Plots\\Randomly Generated ICs\\1.2799 3454.png\n",
      "   fractal dim  = 2.210\n",
      "\n",
      "→ 1.3156 2569.stl\n",
      "   cleaned STL  → Edited_STLs\\Randomly Generated ICs\\1.3156 2569.stl\n"
     ]
    },
    {
     "name": "stderr",
     "output_type": "stream",
     "text": [
      "Random ICs:  43%|████▎     | 6/14 [00:38<00:56,  7.07s/it]"
     ]
    },
    {
     "name": "stdout",
     "output_type": "stream",
     "text": [
      "   plot         → Boxcount_Plots\\Randomly Generated ICs\\1.3156 2569.png\n",
      "   fractal dim  = 2.169\n",
      "\n",
      "→ 1.3156 3128.stl\n",
      "   cleaned STL  → Edited_STLs\\Randomly Generated ICs\\1.3156 3128.stl\n"
     ]
    },
    {
     "name": "stderr",
     "output_type": "stream",
     "text": [
      "Random ICs:  50%|█████     | 7/14 [00:46<00:52,  7.43s/it]"
     ]
    },
    {
     "name": "stdout",
     "output_type": "stream",
     "text": [
      "   plot         → Boxcount_Plots\\Randomly Generated ICs\\1.3156 3128.png\n",
      "   fractal dim  = 2.207\n",
      "\n",
      "→ 1.3156 3637.stl\n",
      "   cleaned STL  → Edited_STLs\\Randomly Generated ICs\\1.3156 3637.stl\n"
     ]
    },
    {
     "name": "stderr",
     "output_type": "stream",
     "text": [
      "Random ICs:  57%|█████▋    | 8/14 [00:55<00:48,  8.07s/it]"
     ]
    },
    {
     "name": "stdout",
     "output_type": "stream",
     "text": [
      "   plot         → Boxcount_Plots\\Randomly Generated ICs\\1.3156 3637.png\n",
      "   fractal dim  = 2.260\n",
      "\n",
      "→ 1.3244 2441.stl\n",
      "   cleaned STL  → Edited_STLs\\Randomly Generated ICs\\1.3244 2441.stl\n"
     ]
    },
    {
     "name": "stderr",
     "output_type": "stream",
     "text": [
      "Random ICs:  64%|██████▍   | 9/14 [01:02<00:37,  7.59s/it]"
     ]
    },
    {
     "name": "stdout",
     "output_type": "stream",
     "text": [
      "   plot         → Boxcount_Plots\\Randomly Generated ICs\\1.3244 2441.png\n",
      "   fractal dim  = 2.196\n",
      "\n",
      "→ 1.3244 4389.stl\n",
      "   cleaned STL  → Edited_STLs\\Randomly Generated ICs\\1.3244 4389.stl\n"
     ]
    },
    {
     "name": "stderr",
     "output_type": "stream",
     "text": [
      "Random ICs:  71%|███████▏  | 10/14 [01:14<00:35,  8.97s/it]"
     ]
    },
    {
     "name": "stdout",
     "output_type": "stream",
     "text": [
      "   plot         → Boxcount_Plots\\Randomly Generated ICs\\1.3244 4389.png\n",
      "   fractal dim  = 2.293\n",
      "\n",
      "→ 1.3423 4769.stl\n",
      "   cleaned STL  → Edited_STLs\\Randomly Generated ICs\\1.3423 4769.stl\n"
     ]
    },
    {
     "name": "stderr",
     "output_type": "stream",
     "text": [
      "Random ICs:  79%|███████▊  | 11/14 [01:27<00:30, 10.24s/it]"
     ]
    },
    {
     "name": "stdout",
     "output_type": "stream",
     "text": [
      "   plot         → Boxcount_Plots\\Randomly Generated ICs\\1.3423 4769.png\n",
      "   fractal dim  = 2.308\n",
      "\n",
      "→ 1.3423 6050.stl\n",
      "   cleaned STL  → Edited_STLs\\Randomly Generated ICs\\1.3423 6050.stl\n"
     ]
    },
    {
     "name": "stderr",
     "output_type": "stream",
     "text": [
      "Random ICs:  86%|████████▌ | 12/14 [01:46<00:26, 13.01s/it]"
     ]
    },
    {
     "name": "stdout",
     "output_type": "stream",
     "text": [
      "   plot         → Boxcount_Plots\\Randomly Generated ICs\\1.3423 6050.png\n",
      "   fractal dim  = 2.367\n",
      "\n",
      "→ 1.3512 5660.stl\n",
      "   cleaned STL  → Edited_STLs\\Randomly Generated ICs\\1.3512 5660.stl\n"
     ]
    },
    {
     "name": "stderr",
     "output_type": "stream",
     "text": [
      "Random ICs:  93%|█████████▎| 13/14 [02:03<00:14, 14.18s/it]"
     ]
    },
    {
     "name": "stdout",
     "output_type": "stream",
     "text": [
      "   plot         → Boxcount_Plots\\Randomly Generated ICs\\1.3512 5660.png\n",
      "   fractal dim  = 2.355\n",
      "\n",
      "→ 1.3689 5500.stl\n",
      "   cleaned STL  → Edited_STLs\\Randomly Generated ICs\\1.3689 5500.stl\n"
     ]
    },
    {
     "name": "stderr",
     "output_type": "stream",
     "text": [
      "Random ICs: 100%|██████████| 14/14 [02:18<00:00,  9.88s/it]"
     ]
    },
    {
     "name": "stdout",
     "output_type": "stream",
     "text": [
      "   plot         → Boxcount_Plots\\Randomly Generated ICs\\1.3689 5500.png\n",
      "   fractal dim  = 2.343\n"
     ]
    },
    {
     "name": "stderr",
     "output_type": "stream",
     "text": [
      "\n"
     ]
    }
   ],
   "source": [
    "# ────────────────────────────────────────────────────────────────────────────\n",
    "# 3-D Box-Counting   —   RANDOMLY-GENERATED CTs ONLY\n",
    "# ────────────────────────────────────────────────────────────────────────────\n",
    "\n",
    "from pathlib import Path\n",
    "import subprocess, sys, importlib\n",
    "\n",
    "# ---------- ensure required libs ----------\n",
    "for pkg in (\"trimesh\", \"pyembree\", \"numpy\", \"matplotlib\", \"tqdm\"):\n",
    "    if importlib.util.find_spec(pkg) is None:\n",
    "        subprocess.check_call([sys.executable, \"-m\", \"pip\", \"install\", pkg, \"--quiet\"])\n",
    "\n",
    "import numpy as np, trimesh as tm\n",
    "import matplotlib.pyplot as plt\n",
    "from tqdm.auto import tqdm\n",
    "\n",
    "# ---------- configuration ----------\n",
    "SRC_ROOT      = Path(\"3D_Files\") / \"Randomly Generated ICs\"   # ONLY this sub-dir\n",
    "DST_STL_ROOT  = Path(\"Edited_STLs\")      / \"Randomly Generated ICs\"\n",
    "DST_PLOT_ROOT = Path(\"Boxcount_Plots\")   / \"Randomly Generated ICs\"\n",
    "\n",
    "TARGET_SIZE   = np.array([30., 30., 36.])   # mm  (X,Y,Z) after scaling\n",
    "PLATE_THICK   = 3.0                         # mm slice off each end\n",
    "VOXEL_DIV     = (1, 7)                      # ε = L/2^k  for k = 1 … 7\n",
    "\n",
    "DST_STL_ROOT.mkdir(parents=True, exist_ok=True)\n",
    "DST_PLOT_ROOT.mkdir(parents=True, exist_ok=True)\n",
    "\n",
    "# ---------- helpers ----------\n",
    "def preprocess_mesh(stl_path: Path) -> tm.Trimesh:\n",
    "    mesh = tm.load_mesh(stl_path, process=False)\n",
    "\n",
    "    # scale so tallest axis == 36 mm\n",
    "    ext  = mesh.bounding_box_oriented.extents\n",
    "    tall = ext.argmax()\n",
    "    mesh.apply_scale(TARGET_SIZE[2] / ext[tall])\n",
    "\n",
    "    # rotate so Z is the tall axis\n",
    "    if tall != 2:\n",
    "        rot = {0: tm.transformations.rotation_matrix(np.pi/2, [0,1,0]),\n",
    "               1: tm.transformations.rotation_matrix(-np.pi/2, [1,0,0])}[tall]\n",
    "        mesh.apply_transform(rot)\n",
    "\n",
    "    # slice off loading plates\n",
    "    z_min, z_max = mesh.bounds[:, 2]\n",
    "    planes = ([0,0, 1], -(z_min + PLATE_THICK)), ([0,0,-1], +(z_max - PLATE_THICK))\n",
    "    for n, off in planes:\n",
    "        mesh = mesh.slice_plane([0,0,-off*n[2]], n)\n",
    "\n",
    "    mesh.remove_unreferenced_vertices()\n",
    "    return mesh\n",
    "\n",
    "def box_count(mesh: tm.Trimesh, k_min, k_max):\n",
    "    L = mesh.bounding_box.extents.max()\n",
    "    scales, counts = [], []\n",
    "    for k in range(k_min, k_max + 1):\n",
    "        eps = L / (2**k)\n",
    "        vox = mesh.voxelized(eps)\n",
    "        scales.append(eps)\n",
    "        counts.append(len(vox.sparse_indices))\n",
    "    coeff = np.polyfit(np.log(scales), np.log(counts), 1)\n",
    "    return np.array(scales), np.array(counts), -coeff[0], coeff\n",
    "\n",
    "def plot_loglog(scales, counts, coeff, png_path, title=\"\"):\n",
    "    plt.figure(figsize=(4.6,4))\n",
    "    plt.loglog(scales, counts, \"o\", label=\"data\")\n",
    "    plt.loglog(scales, np.exp(np.polyval(coeff, np.log(scales))),\n",
    "               \"-\", label=f\"fit  D={-coeff[0]:.3f}\")\n",
    "    plt.gca().invert_xaxis()\n",
    "    plt.xlabel(\"box size ε [mm]\")\n",
    "    plt.ylabel(\"boxes N(ε)\")\n",
    "    plt.title(title);  plt.legend();  plt.tight_layout()\n",
    "    png_path.parent.mkdir(parents=True, exist_ok=True)\n",
    "    plt.savefig(png_path, dpi=300);  plt.close()\n",
    "\n",
    "# ---------- main loop ----------\n",
    "for stl in tqdm(list(SRC_ROOT.rglob(\"*.stl\")), desc=\"Random ICs\"):\n",
    "    rel   = stl.relative_to(SRC_ROOT)\n",
    "    print(f\"\\n→ {rel}\")\n",
    "    mesh  = preprocess_mesh(stl)\n",
    "\n",
    "    # save cleaned STL\n",
    "    out_stl = DST_STL_ROOT / rel\n",
    "    out_stl.parent.mkdir(parents=True, exist_ok=True)\n",
    "    mesh.export(out_stl)\n",
    "    print(f\"   cleaned STL  → {out_stl}\")\n",
    "\n",
    "    # box-count + plot\n",
    "    scales, counts, D, coeff = box_count(mesh, *VOXEL_DIV)\n",
    "    out_png = (DST_PLOT_ROOT / rel).with_suffix(\".png\")\n",
    "    plot_loglog(scales, counts, coeff, out_png, f\"{rel.stem}  D≈{D:.3f}\")\n",
    "    print(f\"   plot         → {out_png}\")\n",
    "    print(f\"   fractal dim  = {D:.3f}\")\n"
   ]
  },
  {
   "cell_type": "code",
   "execution_count": 3,
   "metadata": {},
   "outputs": [
    {
     "name": "stderr",
     "output_type": "stream",
     "text": [
      "Random ICs:   0%|          | 0/14 [00:00<?, ?it/s]"
     ]
    },
    {
     "name": "stdout",
     "output_type": "stream",
     "text": [
      "\n",
      "→ 1.0578 1081.stl\n"
     ]
    },
    {
     "name": "stderr",
     "output_type": "stream",
     "text": [
      "Random ICs:   7%|▋         | 1/14 [00:03<00:46,  3.54s/it]"
     ]
    },
    {
     "name": "stdout",
     "output_type": "stream",
     "text": [
      "\n",
      "→ 1.2000 1510.stl\n"
     ]
    },
    {
     "name": "stderr",
     "output_type": "stream",
     "text": [
      "Random ICs:  14%|█▍        | 2/14 [00:09<00:57,  4.75s/it]"
     ]
    },
    {
     "name": "stdout",
     "output_type": "stream",
     "text": [
      "\n",
      "→ 1.2268 1785.stl\n"
     ]
    },
    {
     "name": "stderr",
     "output_type": "stream",
     "text": [
      "Random ICs:  21%|██▏       | 3/14 [00:15<00:58,  5.35s/it]"
     ]
    },
    {
     "name": "stdout",
     "output_type": "stream",
     "text": [
      "\n",
      "→ 1.2799 2395.stl\n"
     ]
    },
    {
     "name": "stderr",
     "output_type": "stream",
     "text": [
      "Random ICs:  29%|██▊       | 4/14 [00:22<01:02,  6.25s/it]"
     ]
    },
    {
     "name": "stdout",
     "output_type": "stream",
     "text": [
      "\n",
      "→ 1.2799 3454.stl\n"
     ]
    },
    {
     "name": "stderr",
     "output_type": "stream",
     "text": [
      "Random ICs:  36%|███▌      | 5/14 [00:34<01:12,  8.03s/it]"
     ]
    },
    {
     "name": "stdout",
     "output_type": "stream",
     "text": [
      "\n",
      "→ 1.3156 2569.stl\n"
     ]
    },
    {
     "name": "stderr",
     "output_type": "stream",
     "text": [
      "Random ICs:  43%|████▎     | 6/14 [00:42<01:04,  8.12s/it]"
     ]
    },
    {
     "name": "stdout",
     "output_type": "stream",
     "text": [
      "\n",
      "→ 1.3156 3128.stl\n"
     ]
    },
    {
     "name": "stderr",
     "output_type": "stream",
     "text": [
      "Random ICs:  50%|█████     | 7/14 [00:52<01:00,  8.67s/it]"
     ]
    },
    {
     "name": "stdout",
     "output_type": "stream",
     "text": [
      "\n",
      "→ 1.3156 3637.stl\n"
     ]
    },
    {
     "name": "stderr",
     "output_type": "stream",
     "text": [
      "Random ICs:  57%|█████▋    | 8/14 [01:03<00:57,  9.50s/it]"
     ]
    },
    {
     "name": "stdout",
     "output_type": "stream",
     "text": [
      "\n",
      "→ 1.3244 2441.stl\n"
     ]
    },
    {
     "name": "stderr",
     "output_type": "stream",
     "text": [
      "Random ICs:  64%|██████▍   | 9/14 [01:11<00:45,  9.00s/it]"
     ]
    },
    {
     "name": "stdout",
     "output_type": "stream",
     "text": [
      "\n",
      "→ 1.3244 4389.stl\n"
     ]
    },
    {
     "name": "stderr",
     "output_type": "stream",
     "text": [
      "Random ICs:  71%|███████▏  | 10/14 [01:25<00:41, 10.48s/it]"
     ]
    },
    {
     "name": "stdout",
     "output_type": "stream",
     "text": [
      "\n",
      "→ 1.3423 4769.stl\n"
     ]
    },
    {
     "name": "stderr",
     "output_type": "stream",
     "text": [
      "Random ICs:  79%|███████▊  | 11/14 [01:39<00:35, 11.68s/it]"
     ]
    },
    {
     "name": "stdout",
     "output_type": "stream",
     "text": [
      "\n",
      "→ 1.3423 6050.stl\n"
     ]
    },
    {
     "name": "stderr",
     "output_type": "stream",
     "text": [
      "Random ICs:  86%|████████▌ | 12/14 [01:57<00:27, 13.76s/it]"
     ]
    },
    {
     "name": "stdout",
     "output_type": "stream",
     "text": [
      "\n",
      "→ 1.3512 5660.stl\n"
     ]
    },
    {
     "name": "stderr",
     "output_type": "stream",
     "text": [
      "Random ICs:  93%|█████████▎| 13/14 [02:14<00:14, 14.71s/it]"
     ]
    },
    {
     "name": "stdout",
     "output_type": "stream",
     "text": [
      "\n",
      "→ 1.3689 5500.stl\n"
     ]
    },
    {
     "name": "stderr",
     "output_type": "stream",
     "text": [
      "Random ICs: 100%|██████████| 14/14 [02:31<00:00, 10.83s/it]\n"
     ]
    },
    {
     "name": "stdout",
     "output_type": "stream",
     "text": [
      "\n",
      "Saved summary table → Random_ICs_fractal_dims.csv\n",
      "Saved overview plot  → Random_ICs_fractal_dims.png\n"
     ]
    }
   ],
   "source": [
    "# ────────────────────────────────────────────────────────────────────────────\n",
    "# 3-D Box-Counting  —  RANDOMLY-GENERATED CTs  +  CSV & Summary Plot\n",
    "# ────────────────────────────────────────────────────────────────────────────\n",
    "\n",
    "from pathlib import Path\n",
    "import subprocess, sys, importlib\n",
    "\n",
    "# ---------- ensure required libs ----------\n",
    "for pkg in (\"trimesh\", \"numpy\", \"matplotlib\", \"tqdm\", \"pandas\"):\n",
    "    if importlib.util.find_spec(pkg) is None:\n",
    "        subprocess.check_call([sys.executable, \"-m\", \"pip\", \"install\", pkg, \"--quiet\"])\n",
    "\n",
    "import numpy as np, trimesh as tm, pandas as pd\n",
    "import matplotlib.pyplot as plt\n",
    "from tqdm.auto import tqdm\n",
    "\n",
    "# ---------- configuration ----------\n",
    "SRC_ROOT      = Path(\"3D_Files\") / \"Randomly Generated ICs\"\n",
    "DST_STL_ROOT  = Path(\"Edited_STLs\")    / \"Randomly Generated ICs\"\n",
    "DST_PLOT_ROOT = Path(\"Boxcount_Plots\") / \"Randomly Generated ICs\"\n",
    "\n",
    "TARGET_SIZE   = np.array([30., 30., 36.])   # mm  (X,Y,Z)\n",
    "PLATE_THICK   = 3.0                         # mm\n",
    "VOXEL_DIV     = (1, 7)                      # k range for ε = L/2^k\n",
    "\n",
    "DST_STL_ROOT.mkdir(parents=True, exist_ok=True)\n",
    "DST_PLOT_ROOT.mkdir(parents=True, exist_ok=True)\n",
    "\n",
    "# ---------- helpers ----------\n",
    "def preprocess_mesh(stl_path: Path) -> tm.Trimesh:\n",
    "    mesh = tm.load_mesh(stl_path, process=False)\n",
    "    ext  = mesh.bounding_box.extents            # axis-aligned; no SciPy needed\n",
    "    tall = ext.argmax()\n",
    "    mesh.apply_scale(TARGET_SIZE[2] / ext[tall])\n",
    "    if tall != 2:                               # rotate so Z is tall axis\n",
    "        rot = {0: tm.transformations.rotation_matrix(np.pi/2, [0,1,0]),\n",
    "               1: tm.transformations.rotation_matrix(-np.pi/2, [1,0,0])}[tall]\n",
    "        mesh.apply_transform(rot)\n",
    "    z_min, z_max = mesh.bounds[:, 2]\n",
    "    for n, off in (([0,0, 1], -(z_min+PLATE_THICK)),\n",
    "                   ([0,0,-1],  (z_max-PLATE_THICK))):\n",
    "        mesh = mesh.slice_plane([0,0,-off*n[2]], n)\n",
    "    mesh.remove_unreferenced_vertices()\n",
    "    return mesh\n",
    "\n",
    "def box_count(mesh: tm.Trimesh, k_min, k_max):\n",
    "    L = mesh.bounding_box.extents.max()\n",
    "    scales, counts = [], []\n",
    "    for k in range(k_min, k_max + 1):\n",
    "        eps  = L / (2**k)\n",
    "        vox  = mesh.voxelized(eps)\n",
    "        scales.append(eps)\n",
    "        counts.append(len(vox.sparse_indices))\n",
    "    coeff = np.polyfit(np.log(scales), np.log(counts), 1)\n",
    "    return np.array(scales), np.array(counts), -coeff[0], coeff\n",
    "\n",
    "def plot_loglog(scales, counts, coeff, png_path, title=\"\"):\n",
    "    plt.figure(figsize=(4.4,4))\n",
    "    plt.loglog(scales, counts, \"o\", label=\"data\")\n",
    "    plt.loglog(scales,\n",
    "               np.exp(np.polyval(coeff, np.log(scales))),\n",
    "               \"-\", label=f\"fit  D={-coeff[0]:.3f}\")\n",
    "    plt.gca().invert_xaxis()\n",
    "    plt.xlabel(\"box size ε [mm]\")\n",
    "    plt.ylabel(\"boxes N(ε)\")\n",
    "    plt.title(title); plt.legend(); plt.tight_layout()\n",
    "    png_path.parent.mkdir(parents=True, exist_ok=True)\n",
    "    plt.savefig(png_path, dpi=300); plt.close()\n",
    "\n",
    "# ---------- main loop ----------\n",
    "records = []        # will become a DataFrame\n",
    "\n",
    "for stl in tqdm(list(SRC_ROOT.rglob(\"*.stl\")), desc=\"Random ICs\"):\n",
    "    rel  = stl.relative_to(SRC_ROOT)\n",
    "    CID  = stl.stem                          # simple identifier\n",
    "    print(f\"\\n→ {rel}\")\n",
    "    mesh = preprocess_mesh(stl)\n",
    "\n",
    "    out_stl = DST_STL_ROOT / rel\n",
    "    out_stl.parent.mkdir(parents=True, exist_ok=True)\n",
    "    mesh.export(out_stl)\n",
    "\n",
    "    scales, counts, D, coeff = box_count(mesh, *VOXEL_DIV)\n",
    "    out_png = (DST_PLOT_ROOT / rel).with_suffix(\".png\")\n",
    "    plot_loglog(scales, counts, coeff, out_png, f\"{CID}  D≈{D:.3f}\")\n",
    "\n",
    "    # ---- collect for summary table ----\n",
    "    records.append({\"CID\": CID,\n",
    "                    \"fractal_dimension\": round(D, 5),\n",
    "                    \"stl_path\": str(out_stl)})\n",
    "\n",
    "# ---------- summary CSV + overview plot ----------\n",
    "df = pd.DataFrame(records).sort_values(\"CID\")\n",
    "df.to_csv(\"Random_ICs_fractal_dims.csv\", index=False)\n",
    "print(\"\\nSaved summary table → Random_ICs_fractal_dims.csv\")\n",
    "\n",
    "plt.figure(figsize=(max(6, 0.5*len(df)), 4))\n",
    "plt.bar(df[\"CID\"], df[\"fractal_dimension\"], color=\"steelblue\")\n",
    "plt.xticks(rotation=90)\n",
    "plt.ylabel(\"Minkowski dimension D\")\n",
    "plt.title(\"Minkowski dimension per Randomly-Generated CT\")\n",
    "plt.tight_layout()\n",
    "plt.savefig(\"Random_ICs_fractal_dims.png\", dpi=300)\n",
    "plt.close()\n",
    "print(\"Saved overview plot  → Random_ICs_fractal_dims.png\")\n"
   ]
  },
  {
   "cell_type": "code",
   "execution_count": 4,
   "metadata": {},
   "outputs": [
    {
     "name": "stderr",
     "output_type": "stream",
     "text": [
      "Random ICs:   0%|          | 0/14 [00:00<?, ?it/s]"
     ]
    },
    {
     "name": "stdout",
     "output_type": "stream",
     "text": [
      "\n",
      "→ 1.0578 1081.stl\n"
     ]
    },
    {
     "name": "stderr",
     "output_type": "stream",
     "text": [
      "Random ICs:   7%|▋         | 1/14 [00:08<01:54,  8.80s/it]"
     ]
    },
    {
     "name": "stdout",
     "output_type": "stream",
     "text": [
      "\n",
      "→ 1.2000 1510.stl\n"
     ]
    },
    {
     "name": "stderr",
     "output_type": "stream",
     "text": [
      "Random ICs:  14%|█▍        | 2/14 [00:19<01:58,  9.85s/it]"
     ]
    },
    {
     "name": "stdout",
     "output_type": "stream",
     "text": [
      "\n",
      "→ 1.2268 1785.stl\n"
     ]
    },
    {
     "name": "stderr",
     "output_type": "stream",
     "text": [
      "Random ICs:  21%|██▏       | 3/14 [00:31<01:57, 10.69s/it]"
     ]
    },
    {
     "name": "stdout",
     "output_type": "stream",
     "text": [
      "\n",
      "→ 1.2799 2395.stl\n"
     ]
    },
    {
     "name": "stderr",
     "output_type": "stream",
     "text": [
      "Random ICs:  29%|██▊       | 4/14 [00:44<01:56, 11.62s/it]"
     ]
    },
    {
     "name": "stdout",
     "output_type": "stream",
     "text": [
      "\n",
      "→ 1.2799 3454.stl\n"
     ]
    },
    {
     "name": "stderr",
     "output_type": "stream",
     "text": [
      "Random ICs:  36%|███▌      | 5/14 [01:01<02:03, 13.68s/it]"
     ]
    },
    {
     "name": "stdout",
     "output_type": "stream",
     "text": [
      "\n",
      "→ 1.3156 2569.stl\n"
     ]
    },
    {
     "name": "stderr",
     "output_type": "stream",
     "text": [
      "Random ICs:  43%|████▎     | 6/14 [01:15<01:50, 13.85s/it]"
     ]
    },
    {
     "name": "stdout",
     "output_type": "stream",
     "text": [
      "\n",
      "→ 1.3156 3128.stl\n"
     ]
    },
    {
     "name": "stderr",
     "output_type": "stream",
     "text": [
      "Random ICs:  50%|█████     | 7/14 [01:31<01:41, 14.47s/it]"
     ]
    },
    {
     "name": "stdout",
     "output_type": "stream",
     "text": [
      "\n",
      "→ 1.3156 3637.stl\n"
     ]
    },
    {
     "name": "stderr",
     "output_type": "stream",
     "text": [
      "Random ICs:  57%|█████▋    | 8/14 [01:49<01:33, 15.59s/it]"
     ]
    },
    {
     "name": "stdout",
     "output_type": "stream",
     "text": [
      "\n",
      "→ 1.3244 2441.stl\n"
     ]
    },
    {
     "name": "stderr",
     "output_type": "stream",
     "text": [
      "Random ICs:  64%|██████▍   | 9/14 [02:03<01:15, 15.09s/it]"
     ]
    },
    {
     "name": "stdout",
     "output_type": "stream",
     "text": [
      "\n",
      "→ 1.3244 4389.stl\n"
     ]
    },
    {
     "name": "stderr",
     "output_type": "stream",
     "text": [
      "Random ICs:  71%|███████▏  | 10/14 [02:23<01:07, 16.78s/it]"
     ]
    },
    {
     "name": "stdout",
     "output_type": "stream",
     "text": [
      "\n",
      "→ 1.3423 4769.stl\n"
     ]
    },
    {
     "name": "stderr",
     "output_type": "stream",
     "text": [
      "Random ICs:  79%|███████▊  | 11/14 [02:44<00:54, 18.05s/it]"
     ]
    },
    {
     "name": "stdout",
     "output_type": "stream",
     "text": [
      "\n",
      "→ 1.3423 6050.stl\n"
     ]
    },
    {
     "name": "stderr",
     "output_type": "stream",
     "text": [
      "Random ICs:  86%|████████▌ | 12/14 [03:14<00:43, 21.56s/it]"
     ]
    },
    {
     "name": "stdout",
     "output_type": "stream",
     "text": [
      "\n",
      "→ 1.3512 5660.stl\n"
     ]
    },
    {
     "name": "stderr",
     "output_type": "stream",
     "text": [
      "Random ICs:  93%|█████████▎| 13/14 [03:58<00:28, 28.33s/it]"
     ]
    },
    {
     "name": "stdout",
     "output_type": "stream",
     "text": [
      "\n",
      "→ 1.3689 5500.stl\n"
     ]
    },
    {
     "name": "stderr",
     "output_type": "stream",
     "text": [
      "Random ICs: 100%|██████████| 14/14 [04:40<00:00, 20.02s/it]\n"
     ]
    },
    {
     "name": "stdout",
     "output_type": "stream",
     "text": [
      "\n",
      "✓ Summary table  → Random_ICs_fractal_dims.csv\n",
      "✓ Overview plot  → Random_ICs_fractal_dims.png\n",
      "✓ Per-ε box images saved under Box_boxes/Randomly Generated ICs/<CID>/\n"
     ]
    }
   ],
   "source": [
    "# ────────────────────────────────────────────────────────────────────────────\n",
    "# Random-IC Box-Counting with 3-D box visualisations\n",
    "# ────────────────────────────────────────────────────────────────────────────\n",
    "from pathlib import Path\n",
    "import subprocess, sys, importlib, warnings\n",
    "\n",
    "# ---------- make sure core deps exist ----------\n",
    "for pkg in (\"trimesh\", \"numpy\", \"matplotlib\", \"tqdm\", \"pandas\"):\n",
    "    if importlib.util.find_spec(pkg) is None:\n",
    "        subprocess.check_call([sys.executable, \"-m\", \"pip\", \"install\", pkg, \"--quiet\"])\n",
    "\n",
    "import numpy as np, pandas as pd, trimesh as tm\n",
    "import matplotlib.pyplot as plt\n",
    "from mpl_toolkits.mplot3d import Axes3D      # noqa: F401 (activate 3-D)\n",
    "from tqdm.auto import tqdm\n",
    "\n",
    "# ---------- configuration ----------\n",
    "SRC_ROOT  = Path(\"3D_Files\") / \"Randomly Generated ICs\"\n",
    "DST_STL   = Path(\"Edited_STLs\")    / \"Randomly Generated ICs\"\n",
    "DST_PLOT  = Path(\"Boxcount_Plots\") / \"Randomly Generated ICs\"\n",
    "DST_BOXES = Path(\"Box_boxes\")      / \"Randomly Generated ICs\"\n",
    "\n",
    "TARGET_SIZE = np.array([30., 30., 36.])   # mm (X,Y,Z)\n",
    "PLATE_THICK = 3.0                         # mm\n",
    "VOXEL_DIV   = (1, 7)                      # k range → ε=L/2^k\n",
    "\n",
    "for d in (DST_STL, DST_PLOT, DST_BOXES): d.mkdir(parents=True, exist_ok=True)\n",
    "\n",
    "# ---------- helpers ----------\n",
    "def preprocess_mesh(stl_path: Path) -> tm.Trimesh:\n",
    "    mesh  = tm.load_mesh(stl_path, process=False)\n",
    "    ext   = mesh.bounding_box.extents\n",
    "    tall  = ext.argmax()\n",
    "    mesh.apply_scale(TARGET_SIZE[2] / ext[tall])\n",
    "    if tall != 2:                         # rotate so Z axis is tallest\n",
    "        rot = {0: tm.transformations.rotation_matrix(np.pi/2, [0,1,0]),\n",
    "               1: tm.transformations.rotation_matrix(-np.pi/2, [1,0,0])}[tall]\n",
    "        mesh.apply_transform(rot)\n",
    "    z0, z1 = mesh.bounds[:, 2]\n",
    "    for n, off in (([0,0, 1], -(z0+PLATE_THICK)),\n",
    "                   ([0,0,-1],  (z1-PLATE_THICK))):\n",
    "        mesh = mesh.slice_plane([0,0,-off*n[2]], n)\n",
    "    mesh.remove_unreferenced_vertices()\n",
    "    return mesh\n",
    "\n",
    "def box_count(mesh: tm.Trimesh, k_min, k_max):\n",
    "    L = mesh.bounding_box.extents.max()\n",
    "    scales, counts, grids = [], [], []          # save grids for plotting\n",
    "    for k in range(k_min, k_max+1):\n",
    "        eps  = L / (2**k)\n",
    "        vox  = mesh.voxelized(eps)\n",
    "        scales.append(eps)\n",
    "        counts.append(len(vox.sparse_indices))\n",
    "        grids.append(vox)                       # keep for later view\n",
    "    coeff = np.polyfit(np.log(scales), np.log(counts), 1)\n",
    "    return (np.array(scales), np.array(counts),\n",
    "            -coeff[0], coeff, grids)\n",
    "\n",
    "def plot_loglog(scales, counts, coeff, png, title=\"\"):\n",
    "    plt.figure(figsize=(4.5,4))\n",
    "    plt.loglog(scales, counts, \"o\", label=\"data\")\n",
    "    plt.loglog(scales, np.exp(np.polyval(coeff, np.log(scales))),\n",
    "               \"-\", label=f\"fit  D={-coeff[0]:.3f}\")\n",
    "    plt.gca().invert_xaxis(); plt.xlabel(\"box size ε [mm]\"); plt.ylabel(\"boxes N(ε)\")\n",
    "    plt.title(title); plt.legend(); plt.tight_layout()\n",
    "    png.parent.mkdir(parents=True, exist_ok=True); plt.savefig(png, dpi=300); plt.close()\n",
    "\n",
    "def plot_boxes(vox: tm.voxel.VoxelGrid, out_png):\n",
    "    \"\"\"Scatter cube centres to illustrate occupied boxes.\"\"\"\n",
    "    pts = vox.points                      # (N,3) centres in mm\n",
    "    if len(pts) > 50_000:                 # avoid multi-MB PNGs\n",
    "        pts = pts[np.random.choice(len(pts), 50_000, replace=False)]\n",
    "    fig = plt.figure(figsize=(5,5))\n",
    "    ax  = fig.add_subplot(111, projection='3d')\n",
    "    ax.scatter(pts[:,0], pts[:,1], pts[:,2], s=2, alpha=0.6)\n",
    "    max_range = (pts.max(0) - pts.min(0)).max()\n",
    "    mid = pts.mean(0)\n",
    "    ax.set_xlim(mid[0]-max_range/2, mid[0]+max_range/2)\n",
    "    ax.set_ylim(mid[1]-max_range/2, mid[1]+max_range/2)\n",
    "    ax.set_zlim(mid[2]-max_range/2, mid[2]+max_range/2)\n",
    "    [ax.set_axis_off() for _ in range(3)]\n",
    "    out_png.parent.mkdir(parents=True, exist_ok=True)\n",
    "    plt.tight_layout(); plt.savefig(out_png, dpi=300); plt.close()\n",
    "\n",
    "# ---------- main ----------\n",
    "records = []\n",
    "for stl in tqdm(list(SRC_ROOT.rglob(\"*.stl\")), desc=\"Random ICs\"):\n",
    "    rel  = stl.relative_to(SRC_ROOT);  CID = stl.stem\n",
    "    print(f\"\\n→ {rel}\")\n",
    "    mesh = preprocess_mesh(stl)\n",
    "\n",
    "    # save cleaned STL\n",
    "    out_mesh = DST_STL / rel;  out_mesh.parent.mkdir(parents=True, exist_ok=True)\n",
    "    mesh.export(out_mesh)\n",
    "\n",
    "    # box-count & per-ε visualisations\n",
    "    scales, counts, D, coeff, grids = box_count(mesh, *VOXEL_DIV)\n",
    "    # ε-N plot\n",
    "    plot_loglog(scales, counts, coeff,\n",
    "                (DST_PLOT / rel).with_suffix(\".png\"), f\"{CID}  D≈{D:.3f}\")\n",
    "    # 3-D box plots\n",
    "    sub_box_dir = DST_BOXES / CID;  sub_box_dir.mkdir(parents=True, exist_ok=True)\n",
    "    for k, vox in zip(range(VOXEL_DIV[0], VOXEL_DIV[1]+1), grids):\n",
    "        img_path = sub_box_dir / f\"eps_{k}.png\"\n",
    "        plot_boxes(vox, img_path)\n",
    "\n",
    "    # collect summary\n",
    "    records.append({\"CID\": CID, \"fractal_dimension\": round(D,5),\n",
    "                    \"stl_path\": str(out_mesh)})\n",
    "\n",
    "# ---------- summary CSV + CID-vs-D plot ----------\n",
    "df = pd.DataFrame(records).sort_values(\"CID\")\n",
    "df.to_csv(\"Random_ICs_fractal_dims.csv\", index=False)\n",
    "\n",
    "plt.figure(figsize=(max(6, 0.5*len(df)), 4))\n",
    "plt.bar(df[\"CID\"], df[\"fractal_dimension\"], color=\"steelblue\")\n",
    "plt.xticks(rotation=90); plt.ylabel(\"Fractal dimension D\")\n",
    "plt.title(\"Fractal dimension per Randomly-Generated CT\")\n",
    "plt.tight_layout(); plt.savefig(\"Random_ICs_fractal_dims.png\", dpi=300); plt.close()\n",
    "\n",
    "print(\"\\n✓ Summary table  → Random_ICs_fractal_dims.csv\")\n",
    "print(\"✓ Overview plot  → Random_ICs_fractal_dims.png\")\n",
    "print(\"✓ Per-ε box images saved under Box_boxes/Randomly Generated ICs/<CID>/\")\n"
   ]
  },
  {
   "cell_type": "code",
   "execution_count": 15,
   "metadata": {},
   "outputs": [
    {
     "name": "stdout",
     "output_type": "stream",
     "text": [
      "CuPy on GPU\n"
     ]
    },
    {
     "name": "stderr",
     "output_type": "stream",
     "text": [
      "Samples: 100%|██████████| 200/200 [1:08:26<00:00, 20.53s/it]\n"
     ]
    },
    {
     "name": "stdout",
     "output_type": "stream",
     "text": [
      "✓ Outputs written to CT_CUDA_Output\n"
     ]
    },
    {
     "data": {
      "text/html": [
       "<div>\n",
       "<style scoped>\n",
       "    .dataframe tbody tr th:only-of-type {\n",
       "        vertical-align: middle;\n",
       "    }\n",
       "\n",
       "    .dataframe tbody tr th {\n",
       "        vertical-align: top;\n",
       "    }\n",
       "\n",
       "    .dataframe thead th {\n",
       "        text-align: right;\n",
       "    }\n",
       "</style>\n",
       "<table border=\"1\" class=\"dataframe\">\n",
       "  <thead>\n",
       "    <tr style=\"text-align: right;\">\n",
       "      <th></th>\n",
       "      <th>CID</th>\n",
       "      <th>eta</th>\n",
       "      <th>VoxelCount</th>\n",
       "      <th>Stem</th>\n",
       "      <th>Minkowski_D</th>\n",
       "    </tr>\n",
       "  </thead>\n",
       "  <tbody>\n",
       "    <tr>\n",
       "      <th>0</th>\n",
       "      <td>0.2222</td>\n",
       "      <td>1.000</td>\n",
       "      <td>904</td>\n",
       "      <td>CID0.2222_eta1.000_N904</td>\n",
       "      <td>2.0</td>\n",
       "    </tr>\n",
       "    <tr>\n",
       "      <th>1</th>\n",
       "      <td>0.2556</td>\n",
       "      <td>0.997</td>\n",
       "      <td>901</td>\n",
       "      <td>CID0.2556_eta0.997_N901</td>\n",
       "      <td>2.0</td>\n",
       "    </tr>\n",
       "    <tr>\n",
       "      <th>2</th>\n",
       "      <td>0.2689</td>\n",
       "      <td>0.995</td>\n",
       "      <td>899</td>\n",
       "      <td>CID0.2689_eta0.995_N899</td>\n",
       "      <td>2.0</td>\n",
       "    </tr>\n",
       "    <tr>\n",
       "      <th>3</th>\n",
       "      <td>0.2756</td>\n",
       "      <td>0.992</td>\n",
       "      <td>899</td>\n",
       "      <td>CID0.2756_eta0.992_N899</td>\n",
       "      <td>2.0</td>\n",
       "    </tr>\n",
       "    <tr>\n",
       "      <th>4</th>\n",
       "      <td>0.2889</td>\n",
       "      <td>0.990</td>\n",
       "      <td>897</td>\n",
       "      <td>CID0.2889_eta0.990_N897</td>\n",
       "      <td>2.0</td>\n",
       "    </tr>\n",
       "  </tbody>\n",
       "</table>\n",
       "</div>"
      ],
      "text/plain": [
       "      CID    eta  VoxelCount                     Stem  Minkowski_D\n",
       "0  0.2222  1.000         904  CID0.2222_eta1.000_N904          2.0\n",
       "1  0.2556  0.997         901  CID0.2556_eta0.997_N901          2.0\n",
       "2  0.2689  0.995         899  CID0.2689_eta0.995_N899          2.0\n",
       "3  0.2756  0.992         899  CID0.2756_eta0.992_N899          2.0\n",
       "4  0.2889  0.990         897  CID0.2889_eta0.990_N897          2.0"
      ]
     },
     "execution_count": 15,
     "metadata": {},
     "output_type": "execute_result"
    }
   ],
   "source": [
    "# ==============================================================\n",
    "# Conway Trees → GPU voxel pipeline with explicit cube sizes\n",
    "# ==============================================================\n",
    "\n",
    "try:\n",
    "    import cupy as xp; _gpu = True;  print(\"CuPy on GPU\")\n",
    "except ImportError:\n",
    "    import numpy as xp; _gpu = False; print(\"NumPy on CPU\")\n",
    "\n",
    "import numpy as np, pandas as pd, os, math, itertools, shutil\n",
    "import matplotlib.pyplot as plt; from mpl_toolkits.mplot3d import Axes3D # noqa\n",
    "from tqdm.auto import tqdm\n",
    "\n",
    "# ---------------- CONFIG --------------------------------------\n",
    "N_SAMPLES    = 200\n",
    "GRID_XY      = 30\n",
    "NZ_GEN       = 30\n",
    "CUBE_SIZES = list(range(3, 15))  # Cube sizes from 3 to 14 inclusive\n",
    "ROOT_OUT     = \"CT_CUDA_Output\"\n",
    "if os.path.isdir(ROOT_OUT): shutil.rmtree(ROOT_OUT)\n",
    "for sub in (\"numpy_arrays\", \"box_plots\", \"sample_voxels\", \"summary\"):\n",
    "    os.makedirs(os.path.join(ROOT_OUT, sub), exist_ok=True)\n",
    "\n",
    "# -------------- GPU Conway helpers ----------------------------\n",
    "def roll3(a, dx, dy):\n",
    "    return xp.roll(xp.roll(a, dx, -2), dy, -1)\n",
    "\n",
    "\n",
    "def conway_step(g):\n",
    "    \"\"\"\n",
    "    One Conway update with DEAD boundary.\n",
    "    xp is cupy (GPU) or numpy (CPU) depending on _gpu flag.\n",
    "    \"\"\"\n",
    "    p = xp.pad(g, 1)                               # add 1-voxel halo of zeros\n",
    "    n = (p[:-2, :-2] + p[:-2, 1:-1] + p[:-2, 2:] +   # 8-neighbor sum\n",
    "         p[1:-1, :-2]              + p[1:-1, 2:] +\n",
    "         p[2:  , :-2] + p[2:  , 1:-1] + p[2:  , 2:])\n",
    "\n",
    "    birth   = (g == 0) & (n == 3)\n",
    "    survive = (g == 1) & ((n == 2) | (n == 3))\n",
    "    return (birth | survive).astype(xp.uint8)\n",
    "\n",
    "\n",
    "# -------------- CID (unchanged) -------------------------------\n",
    "def cid_ratio(bits):\n",
    "    d={'0':1,'1':2}; code=3; buf=''; tot=0; cur=math.floor(1+math.log2(code))\n",
    "    for b in bits.astype(str):\n",
    "        s=buf+b\n",
    "        if s in d: buf=s\n",
    "        else:\n",
    "            tot+=cur; d[s]=code; code+=1\n",
    "            if code>2**cur: cur+=1\n",
    "            buf=b\n",
    "    if buf: tot+=cur\n",
    "    return tot/len(bits)\n",
    "\n",
    "# -------------- ε-box count for arbitrary cube sizes ----------\n",
    "def box_count_grid(vox, sizes):\n",
    "    \"\"\"\n",
    "    Build occupancy grids for every cube size in `sizes`\n",
    "    and return:\n",
    "        eps   – np.array of ε = 30 / s\n",
    "        nums  – np.array of occupied-box counts\n",
    "        grids – dict{s : Boolean grid}\n",
    "        D     – Minkowski slope\n",
    "        coeff – (slope, intercept) of the log-log fit\n",
    "    \"\"\"\n",
    "    L = vox.shape[0]\n",
    "    eps_list, num_list, grids = [], [], {}\n",
    "    for s in sizes:\n",
    "        occ = xp.zeros((s,s,s), bool) if _gpu else np.zeros((s,s,s), bool)\n",
    "        b   = xp.linspace(0, L, s+1, dtype=int)\n",
    "        for ix in range(s):\n",
    "            x0,x1 = b[ix], b[ix+1]\n",
    "            for iy in range(s):\n",
    "                y0,y1 = b[iy], b[iy+1]\n",
    "                for iz in range(s):\n",
    "                    z0,z1 = b[iz], b[iz+1]\n",
    "                    occ[ix,iy,iz] = vox[x0:x1,y0:y1,z0:z1].any()\n",
    "        grids[s] = occ.get() if _gpu else occ\n",
    "        eps_list.append(L / s)\n",
    "        num_list.append(int(occ.sum().get() if _gpu else occ.sum()))\n",
    "\n",
    "    eps  = np.array(eps_list)\n",
    "    nums = np.array(num_list)\n",
    "    mask = nums > 0\n",
    "    coeff = np.polyfit(np.log(eps[mask]), np.log(nums[mask]), 1) if mask.sum()>1 else (np.nan,np.nan)\n",
    "    D = -coeff[0]\n",
    "    return eps, nums, grids, round(float(D),4), coeff\n",
    "\n",
    "def save_fit_plot(eps, nums, coeff, out_png, title=\"\"):\n",
    "    \"\"\"log–log scatter + fitted line.\"\"\"\n",
    "    plt.figure(figsize=(4,3), dpi=300)\n",
    "    plt.loglog(eps, nums, \"o\", label=\"data\")\n",
    "    fit = np.exp(np.polyval(coeff, np.log(eps)))\n",
    "    plt.loglog(eps, fit, \"-\", label=f\"fit  D={-coeff[0]:.3f}\")\n",
    "    plt.gca().invert_xaxis()\n",
    "    plt.xlabel(\"box size ε\"); plt.ylabel(\"occupied boxes N(ε)\")\n",
    "    plt.title(title, fontsize=8); plt.legend(fontsize=7)\n",
    "    plt.tight_layout()\n",
    "    os.makedirs(os.path.dirname(out_png), exist_ok=True)\n",
    "    plt.savefig(out_png, dpi=300); plt.close()\n",
    "\n",
    "\n",
    "\n",
    "# -------------- cube PNG util ---------------------------------\n",
    "def save_cube_plot(grid, path, title=\"\"):\n",
    "    sx,sy,sz = grid.shape; M=max(sx,sy,sz)\n",
    "    pad = ((0,M-sx),(0,M-sy),(0,M-sz))\n",
    "    grid = np.pad(grid, pad) if any(p[1]>0 for p in pad) else grid\n",
    "    fig = plt.figure(figsize=(4,4)); ax=fig.add_subplot(111,projection='3d')\n",
    "    ax.voxels(grid, facecolors='teal', edgecolors='k', linewidth=.25)\n",
    "    ax.set_box_aspect([1,1,1]); ax.set_axis_off(); ax.set_title(title,fontsize=8)\n",
    "    plt.tight_layout(); os.makedirs(os.path.dirname(path), exist_ok=True)\n",
    "    plt.savefig(path,dpi=300); plt.close()\n",
    "\n",
    "# -------------- bubble plot util ------------------------------\n",
    "def bubble_plot(df,x,y,xlab,ylab,filename,deg):\n",
    "    sizes=[120*deg[r.Stem] for r in df.itertuples()]\n",
    "    plt.figure(figsize=(6,3),dpi=300)\n",
    "    plt.scatter(df[x],df[y],s=sizes,color='k',alpha=.6,edgecolors='none')\n",
    "    plt.xlabel(xlab); plt.ylabel(ylab)\n",
    "    plt.gca().spines[['top','right']].set_visible(False)\n",
    "    plt.tight_layout(); plt.savefig(filename,dpi=300); plt.close()\n",
    "\n",
    "# ================= MAIN  (η-sweep) ===================================\n",
    "records, deg = {}, {}        # deg → bubble sizes\n",
    "rows = []\n",
    "\n",
    "p_live_values = np.linspace(0.5, 1.0, N_SAMPLES)   # ← uniform sweep\n",
    "\n",
    "for idx, p_live in tqdm(list(enumerate(p_live_values, 1)),\n",
    "                        desc=\"Samples\", total=N_SAMPLES):\n",
    "\n",
    "    eta = p_live                                  # order parameter\n",
    "    g0  = (xp.random.random((GRID_XY, GRID_XY)) < p_live).astype(xp.uint8)\n",
    "\n",
    "    # build 30³ voxel tensor\n",
    "    vox = xp.zeros((GRID_XY, GRID_XY, NZ_GEN), xp.uint8)\n",
    "    g = g0\n",
    "    for z in range(NZ_GEN):\n",
    "        vox[:, :, z] = g\n",
    "        g = conway_step(g)\n",
    "\n",
    "    cid    = round(cid_ratio(xp.asnumpy(g0).flatten()), 4)\n",
    "    vcount = int(vox.sum().get() if _gpu else vox.sum())\n",
    "    stem   = f\"CID{cid:.4f}_eta{eta:.3f}_N{vcount}\"\n",
    "\n",
    "    # ── make sure per-sample box folder exists\n",
    "    sample_box_dir = f\"{ROOT_OUT}/box_plots/{stem}\"\n",
    "    os.makedirs(sample_box_dir, exist_ok=True)\n",
    "\n",
    "    # ── save tensor & full voxel PNG\n",
    "    np.save(f\"{ROOT_OUT}/numpy_arrays/{stem}.npy\", xp.asnumpy(vox))\n",
    "    save_cube_plot(xp.asnumpy(vox.transpose(2, 1, 0)),\n",
    "                   f\"{ROOT_OUT}/sample_voxels/{stem}.png\", stem)\n",
    "\n",
    "    # ── box-count + ε–box plots + fit plot\n",
    "    eps, nums, grids, D, coeff = box_count_grid(vox, CUBE_SIZES)\n",
    "    save_fit_plot(eps, nums, coeff,\n",
    "                  f\"{sample_box_dir}/fit.png\", stem)\n",
    "\n",
    "    for s, occ in grids.items():\n",
    "        save_cube_plot(occ, f\"{sample_box_dir}/eps_{s}.png\",\n",
    "                       f\"{stem}  s={s}\")\n",
    "\n",
    "    rows.append(dict(CID=cid, eta=round(eta, 3),\n",
    "                     VoxelCount=vcount, Stem=stem,\n",
    "                     Minkowski_D=D))\n",
    "    deg[stem] = deg.get(stem, 0) + 1\n",
    "\n",
    "# ---------------- Summary -------------------------------------\n",
    "df = pd.DataFrame(rows).sort_values(\"CID\").reset_index(drop=True)\n",
    "df.to_csv(f\"{ROOT_OUT}/summary/CID_vs_Minkowski.csv\", index=False)\n",
    "\n",
    "bubble_plot(df, 'CID', 'Minkowski_D',\n",
    "            \"CID\", \"Minkowski D\",\n",
    "            f\"{ROOT_OUT}/summary/CID_vs_D.png\", deg)\n",
    "\n",
    "bubble_plot(df, 'eta', 'Minkowski_D',\n",
    "            \"η\", \"Minkowski D\",\n",
    "            f\"{ROOT_OUT}/summary/eta_vs_D.png\", deg)\n",
    "\n",
    "print(\"✓ Outputs written to\", ROOT_OUT)\n",
    "df.head()\n"
   ]
  },
  {
   "cell_type": "code",
   "execution_count": 6,
   "metadata": {},
   "outputs": [
    {
     "name": "stdout",
     "output_type": "stream",
     "text": [
      "✓ Plot saved to CT_CUDA_Output/summary/CID_vs_D_REPLOT.png\n"
     ]
    }
   ],
   "source": [
    "import pandas as pd\n",
    "import matplotlib.pyplot as plt\n",
    "import os\n",
    "\n",
    "# ---------------- Replot CID vs Minkowski D ------------------\n",
    "\n",
    "# Set paths\n",
    "summary_csv = \"CT_CUDA_Output/summary/CID_vs_Minkowski.csv\"\n",
    "output_png  = \"CT_CUDA_Output/summary/CID_vs_D_REPLOT.png\"\n",
    "\n",
    "# Read CSV\n",
    "df = pd.read_csv(summary_csv)\n",
    "\n",
    "# Optional: construct dummy deg dictionary for marker size\n",
    "deg = {r.Stem: 1 for r in df.itertuples()}  # ← uniform size\n",
    "\n",
    "# Plot\n",
    "sizes = [45 * deg[r.Stem] for r in df.itertuples()]\n",
    "plt.figure(figsize=(6, 3), dpi=300)\n",
    "plt.scatter(df['CID'], df['Minkowski_D'],\n",
    "            s=sizes, color='k', alpha=0.6, edgecolors='none')\n",
    "\n",
    "plt.xlabel(\"CID\")\n",
    "plt.ylabel(r\"$\\mathrm{dim}_{\\mathrm{Minkowski}}(\\mathrm{CT})$\")\n",
    "plt.gca().spines[['top', 'right']].set_visible(False)\n",
    "plt.tight_layout()\n",
    "\n",
    "# Save figure\n",
    "os.makedirs(os.path.dirname(output_png), exist_ok=True)\n",
    "plt.savefig(output_png, dpi=300)\n",
    "plt.close()\n",
    "\n",
    "print(f\"✓ Plot saved to {output_png}\")\n"
   ]
  },
  {
   "cell_type": "code",
   "execution_count": null,
   "metadata": {},
   "outputs": [],
   "source": []
  }
 ],
 "metadata": {
  "kernelspec": {
   "display_name": "AutomataGPT",
   "language": "python",
   "name": "python3"
  },
  "language_info": {
   "codemirror_mode": {
    "name": "ipython",
    "version": 3
   },
   "file_extension": ".py",
   "mimetype": "text/x-python",
   "name": "python",
   "nbconvert_exporter": "python",
   "pygments_lexer": "ipython3",
   "version": "3.12.3"
  }
 },
 "nbformat": 4,
 "nbformat_minor": 2
}
