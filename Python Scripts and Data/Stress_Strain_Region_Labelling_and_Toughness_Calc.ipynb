{
 "cells": [
  {
   "cell_type": "code",
   "execution_count": 1,
   "metadata": {},
   "outputs": [
    {
     "name": "stderr",
     "output_type": "stream",
     "text": [
      "/var/folders/kj/qgdkbr2x2wv543ldljv50bvw0000gn/T/ipykernel_27286/1876885200.py:58: DeprecationWarning: You are passing x=0       0.000633\n",
      "1       0.001051\n",
      "2       0.001470\n",
      "3       0.001885\n",
      "4       0.002303\n",
      "          ...   \n",
      "1195    0.498554\n",
      "1196    0.498971\n",
      "1197    0.499387\n",
      "1198    0.499805\n",
      "1199    0.500083\n",
      "Name: strain, Length: 1200, dtype: float64 as a positional argument. Please change your invocation to use keyword arguments. From SciPy 1.14, passing these as positional arguments will result in an error.\n",
      "  toughness = simpson(data['stress'], data['strain'])\n"
     ]
    },
    {
     "name": "stdout",
     "output_type": "stream",
     "text": [
      "toughness calculated\n",
      "toughness appended\n",
      "1200000\n",
      "61\n",
      "0.026053246175352887\n",
      "0.026048915549084322\n"
     ]
    },
    {
     "name": "stderr",
     "output_type": "stream",
     "text": [
      "/var/folders/kj/qgdkbr2x2wv543ldljv50bvw0000gn/T/ipykernel_27286/1876885200.py:58: DeprecationWarning: You are passing x=0       0.000402\n",
      "1       0.000822\n",
      "2       0.001237\n",
      "3       0.001655\n",
      "4       0.002071\n",
      "          ...   \n",
      "1196    0.498740\n",
      "1197    0.499157\n",
      "1198    0.499572\n",
      "1199    0.499990\n",
      "1200    0.500060\n",
      "Name: strain, Length: 1201, dtype: float64 as a positional argument. Please change your invocation to use keyword arguments. From SciPy 1.14, passing these as positional arguments will result in an error.\n",
      "  toughness = simpson(data['stress'], data['strain'])\n"
     ]
    },
    {
     "name": "stdout",
     "output_type": "stream",
     "text": [
      "toughness calculated\n",
      "toughness appended\n",
      "1201000\n",
      "26\n",
      "0.011239974507285914\n",
      "0.011238629427171685\n"
     ]
    },
    {
     "name": "stderr",
     "output_type": "stream",
     "text": [
      "/var/folders/kj/qgdkbr2x2wv543ldljv50bvw0000gn/T/ipykernel_27286/1876885200.py:58: DeprecationWarning: You are passing x=0       0.000396\n",
      "1       0.000815\n",
      "2       0.001232\n",
      "3       0.001650\n",
      "4       0.002067\n",
      "          ...   \n",
      "1196    0.498734\n",
      "1197    0.499150\n",
      "1198    0.499567\n",
      "1199    0.499982\n",
      "1200    0.500016\n",
      "Name: strain, Length: 1201, dtype: float64 as a positional argument. Please change your invocation to use keyword arguments. From SciPy 1.14, passing these as positional arguments will result in an error.\n",
      "  toughness = simpson(data['stress'], data['strain'])\n"
     ]
    },
    {
     "name": "stdout",
     "output_type": "stream",
     "text": [
      "toughness calculated\n",
      "toughness appended\n",
      "1201000\n",
      "44\n",
      "0.018731996533460915\n",
      "0.018731402272230854\n"
     ]
    },
    {
     "name": "stderr",
     "output_type": "stream",
     "text": [
      "/var/folders/kj/qgdkbr2x2wv543ldljv50bvw0000gn/T/ipykernel_27286/1876885200.py:58: DeprecationWarning: You are passing x=0      0.000401\n",
      "1      0.000819\n",
      "2      0.001236\n",
      "3      0.001653\n",
      "4      0.002070\n",
      "         ...   \n",
      "813    0.339157\n",
      "814    0.339569\n",
      "815    0.339989\n",
      "816    0.340404\n",
      "817    0.340820\n",
      "Name: strain, Length: 818, dtype: float64 as a positional argument. Please change your invocation to use keyword arguments. From SciPy 1.14, passing these as positional arguments will result in an error.\n",
      "  toughness = simpson(data['stress'], data['strain'])\n"
     ]
    },
    {
     "name": "stdout",
     "output_type": "stream",
     "text": [
      "toughness calculated\n",
      "toughness appended\n",
      "818000\n",
      "105\n",
      "0.04415648678938555\n",
      "0.06477970158897112\n"
     ]
    },
    {
     "name": "stderr",
     "output_type": "stream",
     "text": [
      "/var/folders/kj/qgdkbr2x2wv543ldljv50bvw0000gn/T/ipykernel_27286/1876885200.py:58: DeprecationWarning: You are passing x=0      0.000402\n",
      "1      0.000822\n",
      "2      0.001237\n",
      "3      0.001656\n",
      "4      0.002073\n",
      "         ...   \n",
      "281    0.117488\n",
      "282    0.117907\n",
      "283    0.118324\n",
      "284    0.118739\n",
      "285    0.119158\n",
      "Name: strain, Length: 286, dtype: float64 as a positional argument. Please change your invocation to use keyword arguments. From SciPy 1.14, passing these as positional arguments will result in an error.\n",
      "  toughness = simpson(data['stress'], data['strain'])\n"
     ]
    },
    {
     "name": "stdout",
     "output_type": "stream",
     "text": [
      "toughness calculated\n",
      "toughness appended\n",
      "286000\n",
      "126\n",
      "0.05290602307973638\n",
      "0.221999045380986\n"
     ]
    },
    {
     "name": "stderr",
     "output_type": "stream",
     "text": [
      "/var/folders/kj/qgdkbr2x2wv543ldljv50bvw0000gn/T/ipykernel_27286/1876885200.py:58: DeprecationWarning: You are passing x=0       0.000396\n",
      "1       0.000811\n",
      "2       0.001230\n",
      "3       0.001647\n",
      "4       0.002064\n",
      "          ...   \n",
      "1196    0.498732\n",
      "1197    0.499149\n",
      "1198    0.499567\n",
      "1199    0.499981\n",
      "1200    0.500057\n",
      "Name: strain, Length: 1201, dtype: float64 as a positional argument. Please change your invocation to use keyword arguments. From SciPy 1.14, passing these as positional arguments will result in an error.\n",
      "  toughness = simpson(data['stress'], data['strain'])\n"
     ]
    },
    {
     "name": "stdout",
     "output_type": "stream",
     "text": [
      "toughness calculated\n",
      "toughness appended\n",
      "1201000\n",
      "29\n",
      "0.012481960261033638\n",
      "0.012480531120046885\n"
     ]
    },
    {
     "name": "stderr",
     "output_type": "stream",
     "text": [
      "/var/folders/kj/qgdkbr2x2wv543ldljv50bvw0000gn/T/ipykernel_27286/1876885200.py:58: DeprecationWarning: You are passing x=0       0.000400\n",
      "1       0.000816\n",
      "2       0.001233\n",
      "3       0.001651\n",
      "4       0.002067\n",
      "          ...   \n",
      "1196    0.498734\n",
      "1197    0.499150\n",
      "1198    0.499567\n",
      "1199    0.499984\n",
      "1200    0.500017\n",
      "Name: strain, Length: 1201, dtype: float64 as a positional argument. Please change your invocation to use keyword arguments. From SciPy 1.14, passing these as positional arguments will result in an error.\n",
      "  toughness = simpson(data['stress'], data['strain'])\n"
     ]
    },
    {
     "name": "stdout",
     "output_type": "stream",
     "text": [
      "toughness calculated\n",
      "toughness appended\n",
      "1201000\n",
      "53\n",
      "0.02248382952529936\n",
      "0.022483058077456004\n"
     ]
    },
    {
     "name": "stderr",
     "output_type": "stream",
     "text": [
      "/var/folders/kj/qgdkbr2x2wv543ldljv50bvw0000gn/T/ipykernel_27286/1876885200.py:101: RuntimeWarning: More than 20 figures have been opened. Figures created through the pyplot interface (`matplotlib.pyplot.figure`) are retained until explicitly closed and may consume too much memory. (To control this warning, see the rcParam `figure.max_open_warning`). Consider using `matplotlib.pyplot.close()`.\n",
      "  plt.figure(figsize=(10, 6))\n",
      "/var/folders/kj/qgdkbr2x2wv543ldljv50bvw0000gn/T/ipykernel_27286/1876885200.py:58: DeprecationWarning: You are passing x=0       0.000464\n",
      "1       0.000878\n",
      "2       0.001298\n",
      "3       0.001714\n",
      "4       0.002131\n",
      "          ...   \n",
      "1195    0.498383\n",
      "1196    0.498800\n",
      "1197    0.499215\n",
      "1198    0.499634\n",
      "1199    0.500025\n",
      "Name: strain, Length: 1200, dtype: float64 as a positional argument. Please change your invocation to use keyword arguments. From SciPy 1.14, passing these as positional arguments will result in an error.\n",
      "  toughness = simpson(data['stress'], data['strain'])\n"
     ]
    },
    {
     "name": "stdout",
     "output_type": "stream",
     "text": [
      "toughness calculated\n",
      "toughness appended\n",
      "1200000\n",
      "25\n",
      "0.010882903653610915\n",
      "0.01088236133711807\n"
     ]
    },
    {
     "name": "stderr",
     "output_type": "stream",
     "text": [
      "/var/folders/kj/qgdkbr2x2wv543ldljv50bvw0000gn/T/ipykernel_27286/1876885200.py:58: DeprecationWarning: You are passing x=0       0.000541\n",
      "1       0.000959\n",
      "2       0.001375\n",
      "3       0.001794\n",
      "4       0.002210\n",
      "          ...   \n",
      "1195    0.498461\n",
      "1196    0.498877\n",
      "1197    0.499293\n",
      "1198    0.499711\n",
      "1199    0.500015\n",
      "Name: strain, Length: 1200, dtype: float64 as a positional argument. Please change your invocation to use keyword arguments. From SciPy 1.14, passing these as positional arguments will result in an error.\n",
      "  toughness = simpson(data['stress'], data['strain'])\n"
     ]
    },
    {
     "name": "stdout",
     "output_type": "stream",
     "text": [
      "toughness calculated\n",
      "toughness appended\n",
      "1200000\n",
      "26\n",
      "0.011377110139518556\n",
      "0.01137677863847297\n"
     ]
    },
    {
     "name": "stderr",
     "output_type": "stream",
     "text": [
      "/var/folders/kj/qgdkbr2x2wv543ldljv50bvw0000gn/T/ipykernel_27286/1876885200.py:58: DeprecationWarning: You are passing x=0       0.000404\n",
      "1       0.000822\n",
      "2       0.001237\n",
      "3       0.001656\n",
      "4       0.002070\n",
      "          ...   \n",
      "1196    0.498739\n",
      "1197    0.499154\n",
      "1198    0.499572\n",
      "1199    0.499989\n",
      "1200    0.500049\n",
      "Name: strain, Length: 1201, dtype: float64 as a positional argument. Please change your invocation to use keyword arguments. From SciPy 1.14, passing these as positional arguments will result in an error.\n",
      "  toughness = simpson(data['stress'], data['strain'])\n"
     ]
    },
    {
     "name": "stdout",
     "output_type": "stream",
     "text": [
      "toughness calculated\n",
      "toughness appended\n",
      "1201000\n",
      "43\n",
      "0.01832058963676294\n",
      "0.018318776305318616\n"
     ]
    },
    {
     "name": "stderr",
     "output_type": "stream",
     "text": [
      "/var/folders/kj/qgdkbr2x2wv543ldljv50bvw0000gn/T/ipykernel_27286/1876885200.py:58: DeprecationWarning: You are passing x=0       0.000402\n",
      "1       0.000820\n",
      "2       0.001237\n",
      "3       0.001655\n",
      "4       0.002070\n",
      "          ...   \n",
      "1196    0.498738\n",
      "1197    0.499156\n",
      "1198    0.499572\n",
      "1199    0.499987\n",
      "1200    0.500068\n",
      "Name: strain, Length: 1201, dtype: float64 as a positional argument. Please change your invocation to use keyword arguments. From SciPy 1.14, passing these as positional arguments will result in an error.\n",
      "  toughness = simpson(data['stress'], data['strain'])\n"
     ]
    },
    {
     "name": "stdout",
     "output_type": "stream",
     "text": [
      "toughness calculated\n",
      "toughness appended\n",
      "1201000\n",
      "29\n",
      "0.012487135892216526\n",
      "0.012485447788682064\n"
     ]
    },
    {
     "name": "stderr",
     "output_type": "stream",
     "text": [
      "/var/folders/kj/qgdkbr2x2wv543ldljv50bvw0000gn/T/ipykernel_27286/1876885200.py:58: DeprecationWarning: You are passing x=0       0.000402\n",
      "1       0.000819\n",
      "2       0.001238\n",
      "3       0.001653\n",
      "4       0.002073\n",
      "          ...   \n",
      "1196    0.498738\n",
      "1197    0.499156\n",
      "1198    0.499571\n",
      "1199    0.499989\n",
      "1200    0.500047\n",
      "Name: strain, Length: 1201, dtype: float64 as a positional argument. Please change your invocation to use keyword arguments. From SciPy 1.14, passing these as positional arguments will result in an error.\n",
      "  toughness = simpson(data['stress'], data['strain'])\n"
     ]
    },
    {
     "name": "stdout",
     "output_type": "stream",
     "text": [
      "toughness calculated\n",
      "toughness appended\n",
      "1201000\n",
      "26\n",
      "0.011237386691694443\n",
      "0.011236332571203508\n"
     ]
    },
    {
     "name": "stderr",
     "output_type": "stream",
     "text": [
      "/var/folders/kj/qgdkbr2x2wv543ldljv50bvw0000gn/T/ipykernel_27286/1876885200.py:58: DeprecationWarning: You are passing x=0       0.000393\n",
      "1       0.000811\n",
      "2       0.001229\n",
      "3       0.001646\n",
      "4       0.002064\n",
      "          ...   \n",
      "1196    0.498730\n",
      "1197    0.499148\n",
      "1198    0.499563\n",
      "1199    0.499981\n",
      "1200    0.500024\n",
      "Name: strain, Length: 1201, dtype: float64 as a positional argument. Please change your invocation to use keyword arguments. From SciPy 1.14, passing these as positional arguments will result in an error.\n",
      "  toughness = simpson(data['stress'], data['strain'])\n"
     ]
    },
    {
     "name": "stdout",
     "output_type": "stream",
     "text": [
      "toughness calculated\n",
      "toughness appended\n",
      "1201000\n",
      "24\n",
      "0.010397752501173972\n",
      "0.010397261257166062\n"
     ]
    },
    {
     "name": "stderr",
     "output_type": "stream",
     "text": [
      "/var/folders/kj/qgdkbr2x2wv543ldljv50bvw0000gn/T/ipykernel_27286/1876885200.py:58: DeprecationWarning: You are passing x=0       0.000523\n",
      "1       0.000942\n",
      "2       0.001360\n",
      "3       0.001776\n",
      "4       0.002193\n",
      "          ...   \n",
      "1195    0.498445\n",
      "1196    0.498859\n",
      "1197    0.499278\n",
      "1198    0.499694\n",
      "1199    0.500046\n",
      "Name: strain, Length: 1200, dtype: float64 as a positional argument. Please change your invocation to use keyword arguments. From SciPy 1.14, passing these as positional arguments will result in an error.\n",
      "  toughness = simpson(data['stress'], data['strain'])\n"
     ]
    },
    {
     "name": "stdout",
     "output_type": "stream",
     "text": [
      "toughness calculated\n",
      "toughness appended\n",
      "1200000\n",
      "50\n",
      "0.021362161431978968\n",
      "0.0213602128131468\n"
     ]
    },
    {
     "name": "stderr",
     "output_type": "stream",
     "text": [
      "/var/folders/kj/qgdkbr2x2wv543ldljv50bvw0000gn/T/ipykernel_27286/1876885200.py:58: DeprecationWarning: You are passing x=0      0.000523\n",
      "1      0.000941\n",
      "2      0.001357\n",
      "3      0.001774\n",
      "4      0.002192\n",
      "         ...   \n",
      "255    0.106776\n",
      "256    0.107192\n",
      "257    0.107612\n",
      "258    0.108026\n",
      "259    0.108443\n",
      "Name: strain, Length: 260, dtype: float64 as a positional argument. Please change your invocation to use keyword arguments. From SciPy 1.14, passing these as positional arguments will result in an error.\n",
      "  toughness = simpson(data['stress'], data['strain'])\n"
     ]
    },
    {
     "name": "stdout",
     "output_type": "stream",
     "text": [
      "toughness calculated\n",
      "toughness appended\n",
      "260000\n",
      "83\n",
      "0.03510939617020389\n",
      "0.1618787515492854\n"
     ]
    },
    {
     "name": "stderr",
     "output_type": "stream",
     "text": [
      "/var/folders/kj/qgdkbr2x2wv543ldljv50bvw0000gn/T/ipykernel_27286/1876885200.py:58: DeprecationWarning: You are passing x=0      0.000404\n",
      "1      0.000822\n",
      "2      0.001238\n",
      "3      0.001656\n",
      "4      0.002071\n",
      "         ...   \n",
      "854    0.356237\n",
      "855    0.356657\n",
      "856    0.357071\n",
      "857    0.357489\n",
      "858    0.357905\n",
      "Name: strain, Length: 859, dtype: float64 as a positional argument. Please change your invocation to use keyword arguments. From SciPy 1.14, passing these as positional arguments will result in an error.\n",
      "  toughness = simpson(data['stress'], data['strain'])\n"
     ]
    },
    {
     "name": "stdout",
     "output_type": "stream",
     "text": [
      "toughness calculated\n",
      "toughness appended\n",
      "859000\n",
      "31\n",
      "0.01332288876356972\n",
      "0.018612300584304797\n"
     ]
    },
    {
     "name": "stderr",
     "output_type": "stream",
     "text": [
      "/var/folders/kj/qgdkbr2x2wv543ldljv50bvw0000gn/T/ipykernel_27286/1876885200.py:58: DeprecationWarning: You are passing x=0       0.000400\n",
      "1       0.000816\n",
      "2       0.001233\n",
      "3       0.001652\n",
      "4       0.002066\n",
      "          ...   \n",
      "1196    0.498735\n",
      "1197    0.499152\n",
      "1198    0.499570\n",
      "1199    0.499985\n",
      "1200    0.500047\n",
      "Name: strain, Length: 1201, dtype: float64 as a positional argument. Please change your invocation to use keyword arguments. From SciPy 1.14, passing these as positional arguments will result in an error.\n",
      "  toughness = simpson(data['stress'], data['strain'])\n"
     ]
    },
    {
     "name": "stdout",
     "output_type": "stream",
     "text": [
      "toughness calculated\n",
      "toughness appended\n",
      "1201000\n",
      "22\n",
      "0.009569761459715664\n",
      "0.009568863770428572\n"
     ]
    },
    {
     "name": "stderr",
     "output_type": "stream",
     "text": [
      "/var/folders/kj/qgdkbr2x2wv543ldljv50bvw0000gn/T/ipykernel_27286/1876885200.py:58: DeprecationWarning: You are passing x=0       0.000400\n",
      "1       0.000818\n",
      "2       0.001233\n",
      "3       0.001652\n",
      "4       0.002069\n",
      "          ...   \n",
      "1196    0.498736\n",
      "1197    0.499153\n",
      "1198    0.499568\n",
      "1199    0.499987\n",
      "1200    0.500012\n",
      "Name: strain, Length: 1201, dtype: float64 as a positional argument. Please change your invocation to use keyword arguments. From SciPy 1.14, passing these as positional arguments will result in an error.\n",
      "  toughness = simpson(data['stress'], data['strain'])\n"
     ]
    },
    {
     "name": "stdout",
     "output_type": "stream",
     "text": [
      "toughness calculated\n",
      "toughness appended\n",
      "1201000\n",
      "22\n",
      "0.009568467956139803\n",
      "0.009568238659246357\n"
     ]
    },
    {
     "name": "stderr",
     "output_type": "stream",
     "text": [
      "/var/folders/kj/qgdkbr2x2wv543ldljv50bvw0000gn/T/ipykernel_27286/1876885200.py:58: DeprecationWarning: You are passing x=0       0.000405\n",
      "1       0.000820\n",
      "2       0.001238\n",
      "3       0.001656\n",
      "4       0.002073\n",
      "          ...   \n",
      "1196    0.498742\n",
      "1197    0.499156\n",
      "1198    0.499575\n",
      "1199    0.499990\n",
      "1200    0.500048\n",
      "Name: strain, Length: 1201, dtype: float64 as a positional argument. Please change your invocation to use keyword arguments. From SciPy 1.14, passing these as positional arguments will result in an error.\n",
      "  toughness = simpson(data['stress'], data['strain'])\n"
     ]
    },
    {
     "name": "stdout",
     "output_type": "stream",
     "text": [
      "toughness calculated\n",
      "toughness appended\n",
      "1201000\n",
      "40\n",
      "0.01707342744339258\n",
      "0.017071781713753943\n"
     ]
    },
    {
     "name": "stderr",
     "output_type": "stream",
     "text": [
      "/var/folders/kj/qgdkbr2x2wv543ldljv50bvw0000gn/T/ipykernel_27286/1876885200.py:58: DeprecationWarning: You are passing x=0       0.000398\n",
      "1       0.000818\n",
      "2       0.001234\n",
      "3       0.001652\n",
      "4       0.002069\n",
      "          ...   \n",
      "1196    0.498735\n",
      "1197    0.499153\n",
      "1198    0.499568\n",
      "1199    0.499985\n",
      "1200    0.500013\n",
      "Name: strain, Length: 1201, dtype: float64 as a positional argument. Please change your invocation to use keyword arguments. From SciPy 1.14, passing these as positional arguments will result in an error.\n",
      "  toughness = simpson(data['stress'], data['strain'])\n"
     ]
    },
    {
     "name": "stdout",
     "output_type": "stream",
     "text": [
      "toughness calculated\n",
      "toughness appended\n",
      "1201000\n",
      "38\n",
      "0.016237675380479138\n",
      "0.01623724425914375\n"
     ]
    },
    {
     "name": "stderr",
     "output_type": "stream",
     "text": [
      "/var/folders/kj/qgdkbr2x2wv543ldljv50bvw0000gn/T/ipykernel_27286/1876885200.py:58: DeprecationWarning: You are passing x=0       0.000396\n",
      "1       0.000815\n",
      "2       0.001232\n",
      "3       0.001650\n",
      "4       0.002066\n",
      "          ...   \n",
      "1196    0.498734\n",
      "1197    0.499153\n",
      "1198    0.499568\n",
      "1199    0.499985\n",
      "1200    0.500061\n",
      "Name: strain, Length: 1201, dtype: float64 as a positional argument. Please change your invocation to use keyword arguments. From SciPy 1.14, passing these as positional arguments will result in an error.\n",
      "  toughness = simpson(data['stress'], data['strain'])\n"
     ]
    },
    {
     "name": "stdout",
     "output_type": "stream",
     "text": [
      "toughness calculated\n",
      "toughness appended\n",
      "1201000\n",
      "54\n",
      "0.022900413670059693\n",
      "0.022897613963909248\n",
      "dataframe constructed\n",
      "Toughness values saved to Data/MTS_Runs/\n",
      "job done\n"
     ]
    },
    {
     "data": {
      "text/plain": [
       "<Figure size 1000x600 with 0 Axes>"
      ]
     },
     "metadata": {},
     "output_type": "display_data"
    },
    {
     "data": {
      "text/plain": [
       "<Figure size 1000x600 with 0 Axes>"
      ]
     },
     "metadata": {},
     "output_type": "display_data"
    },
    {
     "data": {
      "text/plain": [
       "<Figure size 1000x600 with 0 Axes>"
      ]
     },
     "metadata": {},
     "output_type": "display_data"
    },
    {
     "data": {
      "text/plain": [
       "<Figure size 1000x600 with 0 Axes>"
      ]
     },
     "metadata": {},
     "output_type": "display_data"
    },
    {
     "data": {
      "text/plain": [
       "<Figure size 1000x600 with 0 Axes>"
      ]
     },
     "metadata": {},
     "output_type": "display_data"
    },
    {
     "data": {
      "text/plain": [
       "<Figure size 1000x600 with 0 Axes>"
      ]
     },
     "metadata": {},
     "output_type": "display_data"
    },
    {
     "data": {
      "text/plain": [
       "<Figure size 1000x600 with 0 Axes>"
      ]
     },
     "metadata": {},
     "output_type": "display_data"
    },
    {
     "data": {
      "text/plain": [
       "<Figure size 1000x600 with 0 Axes>"
      ]
     },
     "metadata": {},
     "output_type": "display_data"
    },
    {
     "data": {
      "text/plain": [
       "<Figure size 1000x600 with 0 Axes>"
      ]
     },
     "metadata": {},
     "output_type": "display_data"
    },
    {
     "data": {
      "text/plain": [
       "<Figure size 1000x600 with 0 Axes>"
      ]
     },
     "metadata": {},
     "output_type": "display_data"
    },
    {
     "data": {
      "text/plain": [
       "<Figure size 1000x600 with 0 Axes>"
      ]
     },
     "metadata": {},
     "output_type": "display_data"
    },
    {
     "data": {
      "text/plain": [
       "<Figure size 1000x600 with 0 Axes>"
      ]
     },
     "metadata": {},
     "output_type": "display_data"
    },
    {
     "data": {
      "text/plain": [
       "<Figure size 1000x600 with 0 Axes>"
      ]
     },
     "metadata": {},
     "output_type": "display_data"
    },
    {
     "data": {
      "text/plain": [
       "<Figure size 1000x600 with 0 Axes>"
      ]
     },
     "metadata": {},
     "output_type": "display_data"
    },
    {
     "data": {
      "text/plain": [
       "<Figure size 1000x600 with 0 Axes>"
      ]
     },
     "metadata": {},
     "output_type": "display_data"
    },
    {
     "data": {
      "text/plain": [
       "<Figure size 1000x600 with 0 Axes>"
      ]
     },
     "metadata": {},
     "output_type": "display_data"
    },
    {
     "data": {
      "text/plain": [
       "<Figure size 1000x600 with 0 Axes>"
      ]
     },
     "metadata": {},
     "output_type": "display_data"
    },
    {
     "data": {
      "text/plain": [
       "<Figure size 1000x600 with 0 Axes>"
      ]
     },
     "metadata": {},
     "output_type": "display_data"
    },
    {
     "data": {
      "text/plain": [
       "<Figure size 1000x600 with 0 Axes>"
      ]
     },
     "metadata": {},
     "output_type": "display_data"
    },
    {
     "data": {
      "text/plain": [
       "<Figure size 1000x600 with 0 Axes>"
      ]
     },
     "metadata": {},
     "output_type": "display_data"
    },
    {
     "data": {
      "text/plain": [
       "<Figure size 1000x600 with 0 Axes>"
      ]
     },
     "metadata": {},
     "output_type": "display_data"
    },
    {
     "data": {
      "text/plain": [
       "<Figure size 1000x600 with 0 Axes>"
      ]
     },
     "metadata": {},
     "output_type": "display_data"
    },
    {
     "data": {
      "text/plain": [
       "<Figure size 1000x600 with 0 Axes>"
      ]
     },
     "metadata": {},
     "output_type": "display_data"
    },
    {
     "data": {
      "text/plain": [
       "<Figure size 1000x600 with 0 Axes>"
      ]
     },
     "metadata": {},
     "output_type": "display_data"
    },
    {
     "data": {
      "text/plain": [
       "<Figure size 1000x600 with 0 Axes>"
      ]
     },
     "metadata": {},
     "output_type": "display_data"
    },
    {
     "data": {
      "text/plain": [
       "<Figure size 1000x600 with 0 Axes>"
      ]
     },
     "metadata": {},
     "output_type": "display_data"
    },
    {
     "data": {
      "text/plain": [
       "<Figure size 1000x600 with 0 Axes>"
      ]
     },
     "metadata": {},
     "output_type": "display_data"
    },
    {
     "data": {
      "text/plain": [
       "<Figure size 1000x600 with 0 Axes>"
      ]
     },
     "metadata": {},
     "output_type": "display_data"
    },
    {
     "data": {
      "text/plain": [
       "<Figure size 1000x600 with 0 Axes>"
      ]
     },
     "metadata": {},
     "output_type": "display_data"
    },
    {
     "data": {
      "text/plain": [
       "<Figure size 1000x600 with 0 Axes>"
      ]
     },
     "metadata": {},
     "output_type": "display_data"
    },
    {
     "data": {
      "text/plain": [
       "<Figure size 1000x600 with 0 Axes>"
      ]
     },
     "metadata": {},
     "output_type": "display_data"
    },
    {
     "data": {
      "text/plain": [
       "<Figure size 1000x600 with 0 Axes>"
      ]
     },
     "metadata": {},
     "output_type": "display_data"
    },
    {
     "data": {
      "text/plain": [
       "<Figure size 1000x600 with 0 Axes>"
      ]
     },
     "metadata": {},
     "output_type": "display_data"
    },
    {
     "data": {
      "text/plain": [
       "<Figure size 1000x600 with 0 Axes>"
      ]
     },
     "metadata": {},
     "output_type": "display_data"
    },
    {
     "data": {
      "text/plain": [
       "<Figure size 1000x600 with 0 Axes>"
      ]
     },
     "metadata": {},
     "output_type": "display_data"
    },
    {
     "data": {
      "text/plain": [
       "<Figure size 1000x600 with 0 Axes>"
      ]
     },
     "metadata": {},
     "output_type": "display_data"
    },
    {
     "data": {
      "text/plain": [
       "<Figure size 1000x600 with 0 Axes>"
      ]
     },
     "metadata": {},
     "output_type": "display_data"
    },
    {
     "data": {
      "text/plain": [
       "<Figure size 1000x600 with 0 Axes>"
      ]
     },
     "metadata": {},
     "output_type": "display_data"
    },
    {
     "data": {
      "text/plain": [
       "<Figure size 1000x600 with 0 Axes>"
      ]
     },
     "metadata": {},
     "output_type": "display_data"
    },
    {
     "data": {
      "text/plain": [
       "<Figure size 1000x600 with 0 Axes>"
      ]
     },
     "metadata": {},
     "output_type": "display_data"
    },
    {
     "data": {
      "text/plain": [
       "<Figure size 1000x600 with 0 Axes>"
      ]
     },
     "metadata": {},
     "output_type": "display_data"
    },
    {
     "data": {
      "text/plain": [
       "<Figure size 1000x600 with 0 Axes>"
      ]
     },
     "metadata": {},
     "output_type": "display_data"
    },
    {
     "data": {
      "text/plain": [
       "<Figure size 1000x600 with 0 Axes>"
      ]
     },
     "metadata": {},
     "output_type": "display_data"
    },
    {
     "data": {
      "text/plain": [
       "<Figure size 1000x600 with 0 Axes>"
      ]
     },
     "metadata": {},
     "output_type": "display_data"
    },
    {
     "data": {
      "text/plain": [
       "<Figure size 1000x600 with 0 Axes>"
      ]
     },
     "metadata": {},
     "output_type": "display_data"
    },
    {
     "data": {
      "text/plain": [
       "<Figure size 1000x600 with 0 Axes>"
      ]
     },
     "metadata": {},
     "output_type": "display_data"
    },
    {
     "data": {
      "text/plain": [
       "<Figure size 1000x600 with 0 Axes>"
      ]
     },
     "metadata": {},
     "output_type": "display_data"
    },
    {
     "data": {
      "text/plain": [
       "<Figure size 1000x600 with 0 Axes>"
      ]
     },
     "metadata": {},
     "output_type": "display_data"
    },
    {
     "data": {
      "text/plain": [
       "<Figure size 1000x600 with 0 Axes>"
      ]
     },
     "metadata": {},
     "output_type": "display_data"
    },
    {
     "data": {
      "text/plain": [
       "<Figure size 1000x600 with 0 Axes>"
      ]
     },
     "metadata": {},
     "output_type": "display_data"
    },
    {
     "data": {
      "text/plain": [
       "<Figure size 1000x600 with 0 Axes>"
      ]
     },
     "metadata": {},
     "output_type": "display_data"
    },
    {
     "data": {
      "text/plain": [
       "<Figure size 1000x600 with 0 Axes>"
      ]
     },
     "metadata": {},
     "output_type": "display_data"
    },
    {
     "data": {
      "text/plain": [
       "<Figure size 1000x600 with 0 Axes>"
      ]
     },
     "metadata": {},
     "output_type": "display_data"
    },
    {
     "data": {
      "text/plain": [
       "<Figure size 1000x600 with 0 Axes>"
      ]
     },
     "metadata": {},
     "output_type": "display_data"
    },
    {
     "data": {
      "text/plain": [
       "<Figure size 1000x600 with 0 Axes>"
      ]
     },
     "metadata": {},
     "output_type": "display_data"
    },
    {
     "data": {
      "text/plain": [
       "<Figure size 1000x600 with 0 Axes>"
      ]
     },
     "metadata": {},
     "output_type": "display_data"
    },
    {
     "data": {
      "text/plain": [
       "<Figure size 1000x600 with 0 Axes>"
      ]
     },
     "metadata": {},
     "output_type": "display_data"
    },
    {
     "data": {
      "text/plain": [
       "<Figure size 1000x600 with 0 Axes>"
      ]
     },
     "metadata": {},
     "output_type": "display_data"
    },
    {
     "data": {
      "text/plain": [
       "<Figure size 1000x600 with 0 Axes>"
      ]
     },
     "metadata": {},
     "output_type": "display_data"
    },
    {
     "data": {
      "text/plain": [
       "<Figure size 1000x600 with 0 Axes>"
      ]
     },
     "metadata": {},
     "output_type": "display_data"
    },
    {
     "data": {
      "text/plain": [
       "<Figure size 1000x600 with 0 Axes>"
      ]
     },
     "metadata": {},
     "output_type": "display_data"
    },
    {
     "data": {
      "text/plain": [
       "<Figure size 1000x600 with 0 Axes>"
      ]
     },
     "metadata": {},
     "output_type": "display_data"
    },
    {
     "data": {
      "text/plain": [
       "<Figure size 1000x600 with 0 Axes>"
      ]
     },
     "metadata": {},
     "output_type": "display_data"
    },
    {
     "data": {
      "image/png": "[encoded data removed]",
      "text/plain": [
       "<Figure size 1000x600 with 1 Axes>"
      ]
     },
     "metadata": {},
     "output_type": "display_data"
    }
   ],
   "source": [
    "import os\n",
    "import pandas as pd\n",
    "import matplotlib.pyplot as plt\n",
    "import re\n",
    "import numpy as np\n",
    "from scipy.integrate import simpson\n",
    "import matplotlib.pyplot as plt\n",
    "from scipy.signal import savgol_filter\n",
    "\n",
    "def extract_run_number(folder_name):\n",
    "    \"\"\"Extract the numerical part of the test run from the folder name.\"\"\"\n",
    "    match = re.search(r'Test Run (\\d+)', folder_name)\n",
    "    if match:\n",
    "        return int(match.group(1))\n",
    "    else:\n",
    "        return None  # In case the folder name does not match the expected format\n",
    "\n",
    "# Original length in mm\n",
    "L0 = 36.0 * 10**-3\n",
    "\n",
    "# Cross-sectional area in square mm (30mm x 30mm)\n",
    "area = 30*(10**-3) * 30*(10**-3)\n",
    "\n",
    "# Set your main directory here\n",
    "main_folder_path = 'Data/MTS_Runs/'\n",
    "\n",
    "# List all subdirectories in the main directory\n",
    "subfolders = [os.path.join(main_folder_path, f.name) for f in os.scandir(main_folder_path) if f.is_dir()]\n",
    "\n",
    "# Filter and sort the subfolders based on the run number\n",
    "filtered_subfolders = []\n",
    "for folder in subfolders:\n",
    "    run_number = extract_run_number(os.path.basename(folder))\n",
    "    if run_number and 4 <= run_number <= 24:\n",
    "        filtered_subfolders.append((folder, run_number))\n",
    "\n",
    "# Sort the folders based on the extracted run number\n",
    "filtered_subfolders.sort(key=lambda x: x[1])\n",
    "\n",
    "# Initialize a list to store the toughness for each run\n",
    "toughness_values = []\n",
    "\n",
    "# Now process each filtered and sorted folder\n",
    "for folder, run_number in filtered_subfolders:\n",
    "    # Construct the file path\n",
    "    file_path = os.path.join(folder, 'DAQ- Crosshead, … - (Timed).txt')\n",
    "    \n",
    "    # Check if the file exists before trying to read it\n",
    "    if os.path.isfile(file_path):\n",
    "        # Read the data\n",
    "        data = pd.read_csv(file_path, sep='\\t', skiprows=7)\n",
    "        \n",
    "        # Calculate strain and stress\n",
    "        data['strain'] = data['mm'] * (10**-3) / L0\n",
    "        data['stress'] = (data['kN'] * 1000) / area\n",
    "\n",
    "        # Calculate toughness using trapezoidal rule for numerical integration\n",
    "        toughness = simpson(data['stress'], data['strain'])\n",
    "        print('toughness calculated')\n",
    "        toughness_values.append((run_number, toughness))\n",
    "        print('toughness appended')\n",
    "\n",
    "        # Find the first and second derivate of the stress/ strain.\n",
    "        smoothed_derivative = savgol_filter(np.gradient(data['stress'], data['strain']), window_length=51, polyorder=3)\n",
    "        smoothed_second = savgol_filter(np.gradient(smoothed_derivative, data['strain']), window_length=51, polyorder=3)\n",
    "        original_strain = data['strain']  # Your original strain data\n",
    "        min_strain, max_strain = np.min(original_strain), np.max(original_strain)\n",
    "        dummy_strain = np.linspace(min_strain, max_strain, len(original_strain) * 1000)\n",
    "        new_smoothed_second = np.interp(dummy_strain, original_strain, smoothed_second)\n",
    "        new_smoothed_derivative = np.interp(dummy_strain, original_strain, smoothed_derivative)\n",
    "        print(len(new_smoothed_derivative))\n",
    "        # offset = round(len(new_smoothed_derivative)/1000)\n",
    "        offset = 0\n",
    "        linear_indices = offset + np.where((new_smoothed_second[offset:] < np.std(new_smoothed_second)*.01) & (new_smoothed_second[offset:] > 0) & (new_smoothed_derivative[offset:] > (max(new_smoothed_derivative)/7)))[0]\n",
    "        linearity_index = round((min(linear_indices))/1000)\n",
    "        print(linearity_index)\n",
    "        print(data['strain'][linearity_index])\n",
    "        print(data['strain'][linearity_index] * .5 / max(data['strain']))\n",
    "\n",
    "        # Plot Stress vs. Strain for this run\n",
    "        plt.figure(figsize=(10, 6))\n",
    "        plt.plot(data['strain'], data['stress'], marker='o', linestyle='-', color='r')\n",
    "        plt.axvline(x=data['strain'][linearity_index], color='black', linestyle='--', label='Start of Elastic Region')\n",
    "        plt.title(f'Stress vs. Strain for Run {run_number}')\n",
    "        plt.xlabel('Strain')\n",
    "        plt.ylabel('Stress (Pa)')\n",
    "        plt.grid(True)\n",
    "        plt.savefig(os.path.join(folder, 'str ess_vs_strain.png'))\n",
    "        plt.clf()\n",
    "\n",
    "        plt.figure(figsize=(10, 6))\n",
    "        plt.plot(dummy_strain, new_smoothed_derivative, marker='o', linestyle='-', color='r')\n",
    "        plt.title(f'First Derivative vs. Strain for Run {run_number}')\n",
    "        plt.xlabel('Strain')\n",
    "        plt.ylabel('dstress/dstrain)')\n",
    "        plt.grid(True)\n",
    "        plt.savefig(os.path.join(folder, 'first_vs_strain.png'))\n",
    "        plt.clf()\n",
    "\n",
    "        # Find the first and second derivate of the stress/ strain.\n",
    "        plt.figure(figsize=(10, 6))\n",
    "        plt.plot(dummy_strain, new_smoothed_second, marker='o', linestyle='-', color='r')\n",
    "        plt.title(f'Second Derivative vs. Strain for Run {run_number}')\n",
    "        plt.xlabel('Strain')\n",
    "        plt.ylabel('d^2stress/dstrain^2)')\n",
    "        plt.grid(True)\n",
    "        plt.savefig(os.path.join(folder, 'second_vs_strain.png'))\n",
    "        plt.clf()\n",
    "\n",
    "    else:\n",
    "        print(f'No data file found in {folder}')\n",
    "\n",
    "# Create a DataFrame from the toughness values\n",
    "toughness_df = pd.DataFrame(toughness_values, columns=['Run Number', 'Toughness'])\n",
    "print('dataframe constructed')\n",
    "\n",
    "# Plot the toughnesses of all samples\n",
    "plt.figure(figsize=(10, 6))\n",
    "plt.plot(toughness_df['Run Number'], toughness_df['Toughness'], marker='o', linestyle='-', color='b')\n",
    "plt.title('Toughness of Each Sample')\n",
    "plt.xlabel('Run Number')\n",
    "plt.ylabel('Toughness')\n",
    "plt.grid(True)\n",
    "plt.savefig(os.path.join(main_folder_path, 'toughness_vs_run.png'))\n",
    "\n",
    "# Save the toughness data to a CSV file\n",
    "toughness_df.to_csv(os.path.join(main_folder_path, 'toughness_values.csv'), index=False)\n",
    "\n",
    "# Show the plot\n",
    "# plt.show()\n",
    "\n",
    "print(f'Toughness values saved to {main_folder_path}')\n",
    "print('job done')\n"
   ]
  },
  {
   "cell_type": "code",
   "execution_count": null,
   "metadata": {},
   "outputs": [],
   "source": []
  }
 ],
 "metadata": {
  "kernelspec": {
   "display_name": "base",
   "language": "python",
   "name": "python3"
  },
  "language_info": {
   "codemirror_mode": {
    "name": "ipython",
    "version": 3
   },
   "file_extension": ".py",
   "mimetype": "text/x-python",
   "name": "python",
   "nbconvert_exporter": "python",
   "pygments_lexer": "ipython3",
   "version": "3.11.5"
  }
 },
 "nbformat": 4,
 "nbformat_minor": 2
}
